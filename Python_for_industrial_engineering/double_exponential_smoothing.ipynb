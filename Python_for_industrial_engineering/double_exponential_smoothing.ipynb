{
 "cells": [
  {
   "cell_type": "code",
   "execution_count": 1,
   "id": "5c1747d0",
   "metadata": {
    "lines_to_next_cell": 1
   },
   "outputs": [],
   "source": [
    "\"\"\"\n",
    "Created on Mon Mar  1 10:12:02 2021\n",
    "\n",
    "@author: ergun\n",
    "\"\"\"\n",
    "import numpy as np "
   ]
  },
  {
   "cell_type": "code",
   "execution_count": 2,
   "id": "f6a54de6",
   "metadata": {
    "lines_to_next_cell": 1
   },
   "outputs": [],
   "source": [
    "def getName():\n",
    "    #TODO: Add your full name instead of Lionel Messi\n",
    "    return \"İbrahim Berk Özkan\""
   ]
  },
  {
   "cell_type": "code",
   "execution_count": 3,
   "id": "624a32d7",
   "metadata": {
    "lines_to_next_cell": 1
   },
   "outputs": [],
   "source": [
    "def getStudentID():\n",
    "    #TODO: Replace X's with your student ID. It should stay as a string and should have exactly 9 digits in it.\n",
    "    return \"070200021\""
   ]
  },
  {
   "cell_type": "code",
   "execution_count": 4,
   "id": "6c3e936d",
   "metadata": {
    "lines_to_next_cell": 1
   },
   "outputs": [],
   "source": [
    "def MAPE(y , y_pred):\n",
    "    return round(100*np.nanmean(np.abs(y - y_pred)/np.abs(y)),2)"
   ]
  },
  {
   "cell_type": "code",
   "execution_count": 60,
   "id": "d3f5a8f4",
   "metadata": {},
   "outputs": [],
   "source": [
    "def double_exponential_smoothing(x, l_zero, b_zero = 0, alpha=0.3, beta=0.5 , mape=False):\n",
    "    if (alpha>1)|(alpha<0)or(beta>1)|(beta<0):\n",
    "        raise ValueError('alpha or beta not in range of (0,1)')\n",
    "    F=np.zeros(len(x)+1)\n",
    "    B=np.zeros(len(x)+1)\n",
    "    F[0]=l_zero\n",
    "    B[0]=b_zero\n",
    "    for i in range(len(x)):\n",
    "        F[i+1]=(alpha*x[i])+(1-alpha)*(F[i]+B[i])\n",
    "        B[i+1]=beta*(F[i+1]-F[i])+(1-beta)*B[i]\n",
    "    F[0]=np.nan\n",
    "    if not mape:\n",
    "        return F[:len(x)]\n",
    "    #mape=True\n",
    "    def MAPE(y , y_pred):\n",
    "        return round(100*np.nanmean(np.abs(y - y_pred)/np.abs(y)),2)\n",
    "    return (F[:len(x)],MAPE(x,F[:len(x)]))\n",
    "\n"
   ]
  }
 ],
 "metadata": {
  "jupytext": {
   "cell_metadata_filter": "-all",
   "encoding": "# -*- coding: utf-8 -*-",
   "main_language": "python",
   "notebook_metadata_filter": "-all"
  },
  "kernelspec": {
   "display_name": "Python 3 (ipykernel)",
   "language": "python",
   "name": "python3"
  },
  "language_info": {
   "codemirror_mode": {
    "name": "ipython",
    "version": 3
   },
   "file_extension": ".py",
   "mimetype": "text/x-python",
   "name": "python",
   "nbconvert_exporter": "python",
   "pygments_lexer": "ipython3",
   "version": "3.9.12"
  }
 },
 "nbformat": 4,
 "nbformat_minor": 5
}
