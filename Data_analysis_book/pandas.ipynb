{
 "cells": [
  {
   "cell_type": "code",
   "execution_count": 1,
   "id": "245d52ea",
   "metadata": {},
   "outputs": [],
   "source": [
    "import pandas as pd"
   ]
  },
  {
   "cell_type": "code",
   "execution_count": 2,
   "id": "02d673ef",
   "metadata": {},
   "outputs": [],
   "source": [
    "import numpy as np"
   ]
  },
  {
   "cell_type": "code",
   "execution_count": 3,
   "id": "e2ed03ce",
   "metadata": {},
   "outputs": [],
   "source": [
    "# Series and DataFrame module used alot so we import them to our local namespace\n",
    "from pandas import Series,DataFrame"
   ]
  },
  {
   "cell_type": "code",
   "execution_count": 4,
   "id": "8f17b76c",
   "metadata": {},
   "outputs": [],
   "source": [
    "import matplotlib.pyplot as plt"
   ]
  },
  {
   "cell_type": "code",
   "execution_count": 5,
   "id": "0c2c73e5",
   "metadata": {},
   "outputs": [],
   "source": [
    "# THERE ARE 2 DATA STRUCTURES (SERIES , DATAFRAMES)"
   ]
  },
  {
   "cell_type": "code",
   "execution_count": 5,
   "id": "62b2e8a0",
   "metadata": {},
   "outputs": [],
   "source": [
    "#Series\n",
    "rng=np.random.default_rng(seed=43)\n",
    "sr=Series(rng.integers(10,20,5))"
   ]
  },
  {
   "cell_type": "code",
   "execution_count": 19,
   "id": "44a188ed",
   "metadata": {},
   "outputs": [
    {
     "data": {
      "text/plain": [
       "0    15\n",
       "1    16\n",
       "2    14\n",
       "3    10\n",
       "4    15\n",
       "dtype: int64"
      ]
     },
     "execution_count": 19,
     "metadata": {},
     "output_type": "execute_result"
    }
   ],
   "source": [
    "sr"
   ]
  },
  {
   "cell_type": "code",
   "execution_count": 20,
   "id": "46708d40",
   "metadata": {},
   "outputs": [
    {
     "data": {
      "text/plain": [
       "pandas.core.series.Series"
      ]
     },
     "execution_count": 20,
     "metadata": {},
     "output_type": "execute_result"
    }
   ],
   "source": [
    "type(sr)"
   ]
  },
  {
   "cell_type": "code",
   "execution_count": 9,
   "id": "5b9fd229",
   "metadata": {},
   "outputs": [
    {
     "data": {
      "text/plain": [
       "RangeIndex(start=0, stop=5, step=1)"
      ]
     },
     "execution_count": 9,
     "metadata": {},
     "output_type": "execute_result"
    }
   ],
   "source": [
    "sr.index # gives info about indexing"
   ]
  },
  {
   "cell_type": "code",
   "execution_count": 10,
   "id": "38c33817",
   "metadata": {},
   "outputs": [
    {
     "data": {
      "text/plain": [
       "0    10\n",
       "1    17\n",
       "2    16\n",
       "3    14\n",
       "4    14\n",
       "dtype: int64"
      ]
     },
     "execution_count": 10,
     "metadata": {},
     "output_type": "execute_result"
    }
   ],
   "source": [
    "sr"
   ]
  },
  {
   "cell_type": "code",
   "execution_count": 21,
   "id": "cf3e7bc2",
   "metadata": {},
   "outputs": [
    {
     "data": {
      "text/plain": [
       "<PandasArray>\n",
       "[15, 16, 14, 10, 15]\n",
       "Length: 5, dtype: int64"
      ]
     },
     "execution_count": 21,
     "metadata": {},
     "output_type": "execute_result"
    }
   ],
   "source": [
    "sr.array # gives info about values"
   ]
  },
  {
   "cell_type": "code",
   "execution_count": 24,
   "id": "3e1cb73f",
   "metadata": {},
   "outputs": [
    {
     "data": {
      "text/plain": [
       "a    15\n",
       "b    16\n",
       "c    14\n",
       "d    10\n",
       "e    15\n",
       "dtype: int64"
      ]
     },
     "execution_count": 24,
     "metadata": {},
     "output_type": "execute_result"
    }
   ],
   "source": [
    "# often index is spesified with label by us \n",
    "sr.index=['a','b','c','d','e']\n",
    "sr"
   ]
  },
  {
   "cell_type": "code",
   "execution_count": null,
   "id": "1d00a7c9",
   "metadata": {},
   "outputs": [],
   "source": []
  },
  {
   "cell_type": "code",
   "execution_count": 15,
   "id": "1186e4b3",
   "metadata": {},
   "outputs": [
    {
     "data": {
      "text/plain": [
       "a    2.202647e+04\n",
       "b    2.415495e+07\n",
       "c    8.886111e+06\n",
       "d    1.202604e+06\n",
       "e    1.202604e+06\n",
       "dtype: float64"
      ]
     },
     "execution_count": 15,
     "metadata": {},
     "output_type": "execute_result"
    }
   ],
   "source": [
    "# series are very similar to dictionaries\n",
    "#expect vide variety of numerical operations like...\n",
    "np.exp(sr)"
   ]
  },
  {
   "cell_type": "code",
   "execution_count": 24,
   "id": "671c9306",
   "metadata": {},
   "outputs": [
    {
     "data": {
      "text/plain": [
       "{'a': 10, 'b': 17, 'c': 16, 'd': 14, 'e': 14}"
      ]
     },
     "execution_count": 24,
     "metadata": {},
     "output_type": "execute_result"
    }
   ],
   "source": [
    "# series can be converted to dict`s and vise versa\n",
    "dct=sr.to_dict()\n",
    "dct"
   ]
  },
  {
   "cell_type": "code",
   "execution_count": 37,
   "id": "557549c8",
   "metadata": {},
   "outputs": [
    {
     "data": {
      "text/plain": [
       "a             NaN\n",
       "b    4.106342e+08\n",
       "c    1.421778e+08\n",
       "d    1.683646e+07\n",
       "e    1.683646e+07\n",
       "dtype: float64"
      ]
     },
     "execution_count": 37,
     "metadata": {},
     "output_type": "execute_result"
    }
   ],
   "source": [
    "# dual series operations acts like join , operation calculated when there is data for both index\n",
    "exp_sr=np.exp(sr)\n",
    "exp_sr['a']=pd.NA\n",
    "exp_sr*sr #LIKE INNER JOIN"
   ]
  },
  {
   "cell_type": "code",
   "execution_count": null,
   "id": "0c338edc",
   "metadata": {},
   "outputs": [],
   "source": [
    "# DataFrame\n",
    "#can be thought as appended series that has same index\n"
   ]
  },
  {
   "cell_type": "code",
   "execution_count": 51,
   "id": "d1b4f667",
   "metadata": {},
   "outputs": [],
   "source": [
    "#most commonly created via dictionary of same size arrays\n",
    "data = {\"state\": [\"Ohio\", \"Ohio\", \"Ohio\", \"Nevada\", \"Nevada\", \"Nevada\"],\n",
    "        \"year\": [2000, 2001, 2002, 2001, 2002, 2003],\n",
    "        \"pop\": [1.5, 1.7, 3.6, 2.4, 2.9, 3.2]}\n",
    "df=DataFrame(data)"
   ]
  },
  {
   "cell_type": "code",
   "execution_count": 52,
   "id": "a4d4d5ae",
   "metadata": {},
   "outputs": [
    {
     "data": {
      "text/html": [
       "<div>\n",
       "<style scoped>\n",
       "    .dataframe tbody tr th:only-of-type {\n",
       "        vertical-align: middle;\n",
       "    }\n",
       "\n",
       "    .dataframe tbody tr th {\n",
       "        vertical-align: top;\n",
       "    }\n",
       "\n",
       "    .dataframe thead th {\n",
       "        text-align: right;\n",
       "    }\n",
       "</style>\n",
       "<table border=\"1\" class=\"dataframe\">\n",
       "  <thead>\n",
       "    <tr style=\"text-align: right;\">\n",
       "      <th></th>\n",
       "      <th>state</th>\n",
       "      <th>year</th>\n",
       "      <th>pop</th>\n",
       "    </tr>\n",
       "  </thead>\n",
       "  <tbody>\n",
       "    <tr>\n",
       "      <th>0</th>\n",
       "      <td>Ohio</td>\n",
       "      <td>2000</td>\n",
       "      <td>1.5</td>\n",
       "    </tr>\n",
       "    <tr>\n",
       "      <th>1</th>\n",
       "      <td>Ohio</td>\n",
       "      <td>2001</td>\n",
       "      <td>1.7</td>\n",
       "    </tr>\n",
       "    <tr>\n",
       "      <th>2</th>\n",
       "      <td>Ohio</td>\n",
       "      <td>2002</td>\n",
       "      <td>3.6</td>\n",
       "    </tr>\n",
       "    <tr>\n",
       "      <th>3</th>\n",
       "      <td>Nevada</td>\n",
       "      <td>2001</td>\n",
       "      <td>2.4</td>\n",
       "    </tr>\n",
       "    <tr>\n",
       "      <th>4</th>\n",
       "      <td>Nevada</td>\n",
       "      <td>2002</td>\n",
       "      <td>2.9</td>\n",
       "    </tr>\n",
       "    <tr>\n",
       "      <th>5</th>\n",
       "      <td>Nevada</td>\n",
       "      <td>2003</td>\n",
       "      <td>3.2</td>\n",
       "    </tr>\n",
       "  </tbody>\n",
       "</table>\n",
       "</div>"
      ],
      "text/plain": [
       "    state  year  pop\n",
       "0    Ohio  2000  1.5\n",
       "1    Ohio  2001  1.7\n",
       "2    Ohio  2002  3.6\n",
       "3  Nevada  2001  2.4\n",
       "4  Nevada  2002  2.9\n",
       "5  Nevada  2003  3.2"
      ]
     },
     "execution_count": 52,
     "metadata": {},
     "output_type": "execute_result"
    }
   ],
   "source": [
    "df"
   ]
  },
  {
   "cell_type": "code",
   "execution_count": 53,
   "id": "aee7b0b9",
   "metadata": {},
   "outputs": [
    {
     "data": {
      "text/html": [
       "<div>\n",
       "<style scoped>\n",
       "    .dataframe tbody tr th:only-of-type {\n",
       "        vertical-align: middle;\n",
       "    }\n",
       "\n",
       "    .dataframe tbody tr th {\n",
       "        vertical-align: top;\n",
       "    }\n",
       "\n",
       "    .dataframe thead th {\n",
       "        text-align: right;\n",
       "    }\n",
       "</style>\n",
       "<table border=\"1\" class=\"dataframe\">\n",
       "  <thead>\n",
       "    <tr style=\"text-align: right;\">\n",
       "      <th></th>\n",
       "      <th>state</th>\n",
       "      <th>year</th>\n",
       "      <th>pop</th>\n",
       "    </tr>\n",
       "  </thead>\n",
       "  <tbody>\n",
       "    <tr>\n",
       "      <th>0</th>\n",
       "      <td>NaN</td>\n",
       "      <td>NaN</td>\n",
       "      <td>NaN</td>\n",
       "    </tr>\n",
       "    <tr>\n",
       "      <th>1</th>\n",
       "      <td>OhioOhio</td>\n",
       "      <td>4002.0</td>\n",
       "      <td>3.4</td>\n",
       "    </tr>\n",
       "    <tr>\n",
       "      <th>2</th>\n",
       "      <td>OhioOhio</td>\n",
       "      <td>4004.0</td>\n",
       "      <td>7.2</td>\n",
       "    </tr>\n",
       "    <tr>\n",
       "      <th>3</th>\n",
       "      <td>NevadaNevada</td>\n",
       "      <td>4002.0</td>\n",
       "      <td>4.8</td>\n",
       "    </tr>\n",
       "    <tr>\n",
       "      <th>4</th>\n",
       "      <td>NevadaNevada</td>\n",
       "      <td>4004.0</td>\n",
       "      <td>5.8</td>\n",
       "    </tr>\n",
       "    <tr>\n",
       "      <th>5</th>\n",
       "      <td>NaN</td>\n",
       "      <td>NaN</td>\n",
       "      <td>NaN</td>\n",
       "    </tr>\n",
       "  </tbody>\n",
       "</table>\n",
       "</div>"
      ],
      "text/plain": [
       "          state    year  pop\n",
       "0           NaN     NaN  NaN\n",
       "1      OhioOhio  4002.0  3.4\n",
       "2      OhioOhio  4004.0  7.2\n",
       "3  NevadaNevada  4002.0  4.8\n",
       "4  NevadaNevada  4004.0  5.8\n",
       "5           NaN     NaN  NaN"
      ]
     },
     "execution_count": 53,
     "metadata": {},
     "output_type": "execute_result"
    }
   ],
   "source": [
    "# HEAD method displays first 5 row for understanding the data\n",
    "df.head()+df.tail()"
   ]
  },
  {
   "cell_type": "code",
   "execution_count": 54,
   "id": "f4cfd50b",
   "metadata": {},
   "outputs": [
    {
     "data": {
      "text/plain": [
       "0      Ohio\n",
       "1      Ohio\n",
       "2      Ohio\n",
       "3    Nevada\n",
       "4    Nevada\n",
       "5    Nevada\n",
       "Name: state, dtype: object"
      ]
     },
     "execution_count": 54,
     "metadata": {},
     "output_type": "execute_result"
    }
   ],
   "source": [
    "# DataFrame can be converted to series by using [] or dot convention\n",
    "df.state"
   ]
  },
  {
   "cell_type": "code",
   "execution_count": 55,
   "id": "73c2fd56",
   "metadata": {},
   "outputs": [
    {
     "data": {
      "text/plain": [
       "0      Ohio\n",
       "1      Ohio\n",
       "2      Ohio\n",
       "3    Nevada\n",
       "4    Nevada\n",
       "5    Nevada\n",
       "Name: state, dtype: object"
      ]
     },
     "execution_count": 55,
     "metadata": {},
     "output_type": "execute_result"
    }
   ],
   "source": [
    "df['state']"
   ]
  },
  {
   "cell_type": "code",
   "execution_count": 73,
   "id": "c61e2320",
   "metadata": {},
   "outputs": [],
   "source": [
    "df['debt']=np.nan"
   ]
  },
  {
   "cell_type": "code",
   "execution_count": 81,
   "id": "a0e64391",
   "metadata": {},
   "outputs": [
    {
     "data": {
      "text/html": [
       "<div>\n",
       "<style scoped>\n",
       "    .dataframe tbody tr th:only-of-type {\n",
       "        vertical-align: middle;\n",
       "    }\n",
       "\n",
       "    .dataframe tbody tr th {\n",
       "        vertical-align: top;\n",
       "    }\n",
       "\n",
       "    .dataframe thead th {\n",
       "        text-align: right;\n",
       "    }\n",
       "</style>\n",
       "<table border=\"1\" class=\"dataframe\">\n",
       "  <thead>\n",
       "    <tr style=\"text-align: right;\">\n",
       "      <th></th>\n",
       "      <th>state</th>\n",
       "      <th>year</th>\n",
       "      <th>pop</th>\n",
       "      <th>debt</th>\n",
       "    </tr>\n",
       "  </thead>\n",
       "  <tbody>\n",
       "    <tr>\n",
       "      <th>0</th>\n",
       "      <td>Ohio</td>\n",
       "      <td>2000</td>\n",
       "      <td>1.5</td>\n",
       "      <td>NaN</td>\n",
       "    </tr>\n",
       "    <tr>\n",
       "      <th>1</th>\n",
       "      <td>Ohio</td>\n",
       "      <td>2001</td>\n",
       "      <td>1.7</td>\n",
       "      <td>NaN</td>\n",
       "    </tr>\n",
       "    <tr>\n",
       "      <th>2</th>\n",
       "      <td>Ohio</td>\n",
       "      <td>2002</td>\n",
       "      <td>3.6</td>\n",
       "      <td>NaN</td>\n",
       "    </tr>\n",
       "    <tr>\n",
       "      <th>3</th>\n",
       "      <td>Nevada</td>\n",
       "      <td>2001</td>\n",
       "      <td>2.4</td>\n",
       "      <td>NaN</td>\n",
       "    </tr>\n",
       "    <tr>\n",
       "      <th>4</th>\n",
       "      <td>Nevada</td>\n",
       "      <td>2002</td>\n",
       "      <td>2.9</td>\n",
       "      <td>NaN</td>\n",
       "    </tr>\n",
       "    <tr>\n",
       "      <th>5</th>\n",
       "      <td>Nevada</td>\n",
       "      <td>2003</td>\n",
       "      <td>3.2</td>\n",
       "      <td>NaN</td>\n",
       "    </tr>\n",
       "  </tbody>\n",
       "</table>\n",
       "</div>"
      ],
      "text/plain": [
       "    state  year  pop  debt\n",
       "0    Ohio  2000  1.5   NaN\n",
       "1    Ohio  2001  1.7   NaN\n",
       "2    Ohio  2002  3.6   NaN\n",
       "3  Nevada  2001  2.4   NaN\n",
       "4  Nevada  2002  2.9   NaN\n",
       "5  Nevada  2003  3.2   NaN"
      ]
     },
     "execution_count": 81,
     "metadata": {},
     "output_type": "execute_result"
    }
   ],
   "source": [
    "df"
   ]
  },
  {
   "cell_type": "code",
   "execution_count": 82,
   "id": "b401701d",
   "metadata": {},
   "outputs": [],
   "source": [
    "del df['debt'] #can remove colums"
   ]
  },
  {
   "cell_type": "code",
   "execution_count": 83,
   "id": "b7897be3",
   "metadata": {},
   "outputs": [
    {
     "data": {
      "text/html": [
       "<div>\n",
       "<style scoped>\n",
       "    .dataframe tbody tr th:only-of-type {\n",
       "        vertical-align: middle;\n",
       "    }\n",
       "\n",
       "    .dataframe tbody tr th {\n",
       "        vertical-align: top;\n",
       "    }\n",
       "\n",
       "    .dataframe thead th {\n",
       "        text-align: right;\n",
       "    }\n",
       "</style>\n",
       "<table border=\"1\" class=\"dataframe\">\n",
       "  <thead>\n",
       "    <tr style=\"text-align: right;\">\n",
       "      <th></th>\n",
       "      <th>state</th>\n",
       "      <th>year</th>\n",
       "      <th>pop</th>\n",
       "    </tr>\n",
       "  </thead>\n",
       "  <tbody>\n",
       "    <tr>\n",
       "      <th>0</th>\n",
       "      <td>Ohio</td>\n",
       "      <td>2000</td>\n",
       "      <td>1.5</td>\n",
       "    </tr>\n",
       "    <tr>\n",
       "      <th>1</th>\n",
       "      <td>Ohio</td>\n",
       "      <td>2001</td>\n",
       "      <td>1.7</td>\n",
       "    </tr>\n",
       "    <tr>\n",
       "      <th>2</th>\n",
       "      <td>Ohio</td>\n",
       "      <td>2002</td>\n",
       "      <td>3.6</td>\n",
       "    </tr>\n",
       "    <tr>\n",
       "      <th>3</th>\n",
       "      <td>Nevada</td>\n",
       "      <td>2001</td>\n",
       "      <td>2.4</td>\n",
       "    </tr>\n",
       "    <tr>\n",
       "      <th>4</th>\n",
       "      <td>Nevada</td>\n",
       "      <td>2002</td>\n",
       "      <td>2.9</td>\n",
       "    </tr>\n",
       "    <tr>\n",
       "      <th>5</th>\n",
       "      <td>Nevada</td>\n",
       "      <td>2003</td>\n",
       "      <td>3.2</td>\n",
       "    </tr>\n",
       "  </tbody>\n",
       "</table>\n",
       "</div>"
      ],
      "text/plain": [
       "    state  year  pop\n",
       "0    Ohio  2000  1.5\n",
       "1    Ohio  2001  1.7\n",
       "2    Ohio  2002  3.6\n",
       "3  Nevada  2001  2.4\n",
       "4  Nevada  2002  2.9\n",
       "5  Nevada  2003  3.2"
      ]
     },
     "execution_count": 83,
     "metadata": {},
     "output_type": "execute_result"
    }
   ],
   "source": [
    "df"
   ]
  },
  {
   "cell_type": "code",
   "execution_count": 85,
   "id": "05cac591",
   "metadata": {},
   "outputs": [
    {
     "data": {
      "text/html": [
       "<div>\n",
       "<style scoped>\n",
       "    .dataframe tbody tr th:only-of-type {\n",
       "        vertical-align: middle;\n",
       "    }\n",
       "\n",
       "    .dataframe tbody tr th {\n",
       "        vertical-align: top;\n",
       "    }\n",
       "\n",
       "    .dataframe thead th {\n",
       "        text-align: right;\n",
       "    }\n",
       "</style>\n",
       "<table border=\"1\" class=\"dataframe\">\n",
       "  <thead>\n",
       "    <tr style=\"text-align: right;\">\n",
       "      <th></th>\n",
       "      <th>game</th>\n",
       "      <th>rating</th>\n",
       "    </tr>\n",
       "  </thead>\n",
       "  <tbody>\n",
       "    <tr>\n",
       "      <th>best</th>\n",
       "      <td>chess</td>\n",
       "      <td>10</td>\n",
       "    </tr>\n",
       "    <tr>\n",
       "      <th>worst</th>\n",
       "      <td>squich</td>\n",
       "      <td>2</td>\n",
       "    </tr>\n",
       "    <tr>\n",
       "      <th>middle</th>\n",
       "      <td>NaN</td>\n",
       "      <td>5</td>\n",
       "    </tr>\n",
       "  </tbody>\n",
       "</table>\n",
       "</div>"
      ],
      "text/plain": [
       "          game  rating\n",
       "best     chess      10\n",
       "worst   squich       2\n",
       "middle     NaN       5"
      ]
     },
     "execution_count": 85,
     "metadata": {},
     "output_type": "execute_result"
    }
   ],
   "source": [
    "#NESTED DICTIONARYS FOR CREATING A DATAFRAME df={col_name :{index:value,index:value}}\n",
    "data={'game':{'best':'chess','worst':'squich'},\n",
    "    'rating':{'best':10,'worst':2,'middle':5}}\n",
    "df=DataFrame(data)\n",
    "df"
   ]
  },
  {
   "cell_type": "code",
   "execution_count": 25,
   "id": "31bf3a19",
   "metadata": {},
   "outputs": [
    {
     "data": {
      "text/plain": [
       "5    a\n",
       "6    b\n",
       "7    c\n",
       "dtype: object"
      ]
     },
     "execution_count": 25,
     "metadata": {},
     "output_type": "execute_result"
    }
   ],
   "source": [
    "# index object (they are immutable for safety procations)\n",
    "indx=pd.Index(np.arange(5,8))\n",
    "exam=Series(('a','b','c'),index=indx)\n",
    "exam"
   ]
  },
  {
   "cell_type": "code",
   "execution_count": 6,
   "id": "b555e50a",
   "metadata": {},
   "outputs": [
    {
     "data": {
      "text/plain": [
       "(True, False)"
      ]
     },
     "execution_count": 6,
     "metadata": {},
     "output_type": "execute_result"
    }
   ],
   "source": [
    "# index operation can be interrogated like sets\n",
    "5 in exam.index, 1632 in exam.index"
   ]
  },
  {
   "cell_type": "code",
   "execution_count": 7,
   "id": "ee73c6e0",
   "metadata": {},
   "outputs": [
    {
     "data": {
      "text/plain": [
       "True"
      ]
     },
     "execution_count": 7,
     "metadata": {},
     "output_type": "execute_result"
    }
   ],
   "source": [
    "#THIS PROPERTY STANDS FOR COLUMNS(DataFrame),array(Series ) TYPE \n",
    "'a' in exam.array"
   ]
  },
  {
   "cell_type": "code",
   "execution_count": 27,
   "id": "07f37a1a",
   "metadata": {},
   "outputs": [],
   "source": [
    "exam=Series(np.where(exam.isin(['a','c']),exam,0))"
   ]
  },
  {
   "cell_type": "code",
   "execution_count": 28,
   "id": "e27f4938",
   "metadata": {},
   "outputs": [
    {
     "data": {
      "text/plain": [
       "0    a\n",
       "1    0\n",
       "2    c\n",
       "dtype: object"
      ]
     },
     "execution_count": 28,
     "metadata": {},
     "output_type": "execute_result"
    }
   ],
   "source": [
    "exam"
   ]
  },
  {
   "cell_type": "code",
   "execution_count": null,
   "id": "e36ee123",
   "metadata": {},
   "outputs": [],
   "source": [
    "# FUNCTIONALITIES FOR PANDAS #"
   ]
  },
  {
   "cell_type": "code",
   "execution_count": 6,
   "id": "b143e997",
   "metadata": {},
   "outputs": [],
   "source": [
    "rng=np.random.default_rng(seed=3985)"
   ]
  },
  {
   "cell_type": "code",
   "execution_count": 25,
   "id": "02ec3d1d",
   "metadata": {},
   "outputs": [
    {
     "data": {
      "text/plain": [
       "(0      a\n",
       " 1    NaN\n",
       " 2      c\n",
       " 3    NaN\n",
       " 4      d\n",
       " 5    NaN\n",
       " dtype: object,\n",
       " 0    a\n",
       " 1    a\n",
       " 2    c\n",
       " 3    c\n",
       " 4    d\n",
       " 5    d\n",
       " dtype: object)"
      ]
     },
     "execution_count": 25,
     "metadata": {},
     "output_type": "execute_result"
    }
   ],
   "source": [
    "#reindex\n",
    "\n",
    "#series example\n",
    "sr=Series(['a','c','d'],index=[0,2,4])\n",
    "sr.reindex(np.arange(6)),sr.reindex(np.arange(6),method='ffill')\n",
    "                                    #original indexing effected the method:if 1,2,3->acdddd,0,2,4>aaccdd)"
   ]
  },
  {
   "cell_type": "code",
   "execution_count": 31,
   "id": "1dd701cb",
   "metadata": {},
   "outputs": [],
   "source": []
  },
  {
   "cell_type": "code",
   "execution_count": 27,
   "id": "cec13530",
   "metadata": {},
   "outputs": [
    {
     "data": {
      "text/html": [
       "<div>\n",
       "<style scoped>\n",
       "    .dataframe tbody tr th:only-of-type {\n",
       "        vertical-align: middle;\n",
       "    }\n",
       "\n",
       "    .dataframe tbody tr th {\n",
       "        vertical-align: top;\n",
       "    }\n",
       "\n",
       "    .dataframe thead th {\n",
       "        text-align: right;\n",
       "    }\n",
       "</style>\n",
       "<table border=\"1\" class=\"dataframe\">\n",
       "  <thead>\n",
       "    <tr style=\"text-align: right;\">\n",
       "      <th></th>\n",
       "      <th>price</th>\n",
       "      <th>crime</th>\n",
       "      <th>school</th>\n",
       "      <th>hospitality</th>\n",
       "    </tr>\n",
       "  </thead>\n",
       "  <tbody>\n",
       "    <tr>\n",
       "      <th>s1</th>\n",
       "      <td>45.479613</td>\n",
       "      <td>-19.510293</td>\n",
       "      <td>158.297379</td>\n",
       "      <td>100.999438</td>\n",
       "    </tr>\n",
       "    <tr>\n",
       "      <th>s2</th>\n",
       "      <td>112.343881</td>\n",
       "      <td>52.984307</td>\n",
       "      <td>173.589882</td>\n",
       "      <td>156.592035</td>\n",
       "    </tr>\n",
       "    <tr>\n",
       "      <th>s3</th>\n",
       "      <td>92.690567</td>\n",
       "      <td>66.648193</td>\n",
       "      <td>78.598517</td>\n",
       "      <td>52.082467</td>\n",
       "    </tr>\n",
       "    <tr>\n",
       "      <th>s4</th>\n",
       "      <td>101.593849</td>\n",
       "      <td>63.029937</td>\n",
       "      <td>135.132551</td>\n",
       "      <td>78.431886</td>\n",
       "    </tr>\n",
       "    <tr>\n",
       "      <th>s5</th>\n",
       "      <td>78.762576</td>\n",
       "      <td>192.235180</td>\n",
       "      <td>56.456829</td>\n",
       "      <td>5.925047</td>\n",
       "    </tr>\n",
       "    <tr>\n",
       "      <th>s6</th>\n",
       "      <td>121.972912</td>\n",
       "      <td>-24.672111</td>\n",
       "      <td>115.862718</td>\n",
       "      <td>158.903209</td>\n",
       "    </tr>\n",
       "    <tr>\n",
       "      <th>s7</th>\n",
       "      <td>104.206902</td>\n",
       "      <td>100.556504</td>\n",
       "      <td>-23.036561</td>\n",
       "      <td>133.318221</td>\n",
       "    </tr>\n",
       "    <tr>\n",
       "      <th>s8</th>\n",
       "      <td>123.777554</td>\n",
       "      <td>29.680134</td>\n",
       "      <td>214.790245</td>\n",
       "      <td>26.559028</td>\n",
       "    </tr>\n",
       "    <tr>\n",
       "      <th>s9</th>\n",
       "      <td>-0.757422</td>\n",
       "      <td>-8.663466</td>\n",
       "      <td>101.558254</td>\n",
       "      <td>120.272275</td>\n",
       "    </tr>\n",
       "    <tr>\n",
       "      <th>s10</th>\n",
       "      <td>126.458435</td>\n",
       "      <td>79.758401</td>\n",
       "      <td>51.239499</td>\n",
       "      <td>150.565875</td>\n",
       "    </tr>\n",
       "  </tbody>\n",
       "</table>\n",
       "</div>"
      ],
      "text/plain": [
       "          price       crime      school  hospitality\n",
       "s1    45.479613  -19.510293  158.297379   100.999438\n",
       "s2   112.343881   52.984307  173.589882   156.592035\n",
       "s3    92.690567   66.648193   78.598517    52.082467\n",
       "s4   101.593849   63.029937  135.132551    78.431886\n",
       "s5    78.762576  192.235180   56.456829     5.925047\n",
       "s6   121.972912  -24.672111  115.862718   158.903209\n",
       "s7   104.206902  100.556504  -23.036561   133.318221\n",
       "s8   123.777554   29.680134  214.790245    26.559028\n",
       "s9    -0.757422   -8.663466  101.558254   120.272275\n",
       "s10  126.458435   79.758401   51.239499   150.565875"
      ]
     },
     "execution_count": 27,
     "metadata": {},
     "output_type": "execute_result"
    }
   ],
   "source": [
    "#REINDEX ON DataFrame\n",
    "df=DataFrame(rng.normal(100,60,size=(10,4)),\n",
    "            index=['s1','s2','s3','s4','s5','s6','s7','s8','s9','s10'],\n",
    "            columns=['price','crime',\"school\",'hospitality'])\n",
    "df"
   ]
  },
  {
   "cell_type": "code",
   "execution_count": 30,
   "id": "ce367843",
   "metadata": {},
   "outputs": [
    {
     "data": {
      "text/plain": [
       "Index(['s1', 's2', 's3', 's4', 's5', 's6', 's7', 's8', 's9', 's10'], dtype='object')"
      ]
     },
     "execution_count": 30,
     "metadata": {},
     "output_type": "execute_result"
    }
   ],
   "source": [
    "df.index"
   ]
  },
  {
   "cell_type": "code",
   "execution_count": 18,
   "id": "bd55e351",
   "metadata": {},
   "outputs": [
    {
     "data": {
      "text/html": [
       "<div>\n",
       "<style scoped>\n",
       "    .dataframe tbody tr th:only-of-type {\n",
       "        vertical-align: middle;\n",
       "    }\n",
       "\n",
       "    .dataframe tbody tr th {\n",
       "        vertical-align: top;\n",
       "    }\n",
       "\n",
       "    .dataframe thead th {\n",
       "        text-align: right;\n",
       "    }\n",
       "</style>\n",
       "<table border=\"1\" class=\"dataframe\">\n",
       "  <thead>\n",
       "    <tr style=\"text-align: right;\">\n",
       "      <th></th>\n",
       "      <th>price</th>\n",
       "      <th>crime</th>\n",
       "      <th>school</th>\n",
       "      <th>hospitality</th>\n",
       "    </tr>\n",
       "  </thead>\n",
       "  <tbody>\n",
       "    <tr>\n",
       "      <th>s1</th>\n",
       "      <td>156.433883</td>\n",
       "      <td>-17.062111</td>\n",
       "      <td>21.869230</td>\n",
       "      <td>107.670424</td>\n",
       "    </tr>\n",
       "    <tr>\n",
       "      <th>s10</th>\n",
       "      <td>139.035567</td>\n",
       "      <td>144.595250</td>\n",
       "      <td>132.589256</td>\n",
       "      <td>60.069418</td>\n",
       "    </tr>\n",
       "    <tr>\n",
       "      <th>s2</th>\n",
       "      <td>81.025444</td>\n",
       "      <td>98.991931</td>\n",
       "      <td>48.817364</td>\n",
       "      <td>152.763878</td>\n",
       "    </tr>\n",
       "    <tr>\n",
       "      <th>s3</th>\n",
       "      <td>146.667516</td>\n",
       "      <td>103.961842</td>\n",
       "      <td>167.634472</td>\n",
       "      <td>128.050561</td>\n",
       "    </tr>\n",
       "    <tr>\n",
       "      <th>s4</th>\n",
       "      <td>48.442452</td>\n",
       "      <td>122.125047</td>\n",
       "      <td>42.467044</td>\n",
       "      <td>152.707018</td>\n",
       "    </tr>\n",
       "    <tr>\n",
       "      <th>s5</th>\n",
       "      <td>97.004445</td>\n",
       "      <td>88.908258</td>\n",
       "      <td>59.144227</td>\n",
       "      <td>173.352480</td>\n",
       "    </tr>\n",
       "    <tr>\n",
       "      <th>s6</th>\n",
       "      <td>90.728231</td>\n",
       "      <td>74.300331</td>\n",
       "      <td>78.871987</td>\n",
       "      <td>131.938551</td>\n",
       "    </tr>\n",
       "    <tr>\n",
       "      <th>s7</th>\n",
       "      <td>121.926644</td>\n",
       "      <td>124.763957</td>\n",
       "      <td>125.849260</td>\n",
       "      <td>228.498856</td>\n",
       "    </tr>\n",
       "    <tr>\n",
       "      <th>s8</th>\n",
       "      <td>75.615099</td>\n",
       "      <td>69.265436</td>\n",
       "      <td>51.173636</td>\n",
       "      <td>136.958765</td>\n",
       "    </tr>\n",
       "    <tr>\n",
       "      <th>s9</th>\n",
       "      <td>167.738338</td>\n",
       "      <td>93.163153</td>\n",
       "      <td>49.590611</td>\n",
       "      <td>50.531127</td>\n",
       "    </tr>\n",
       "  </tbody>\n",
       "</table>\n",
       "</div>"
      ],
      "text/plain": [
       "          price       crime      school  hospitality\n",
       "s1   156.433883  -17.062111   21.869230   107.670424\n",
       "s10  139.035567  144.595250  132.589256    60.069418\n",
       "s2    81.025444   98.991931   48.817364   152.763878\n",
       "s3   146.667516  103.961842  167.634472   128.050561\n",
       "s4    48.442452  122.125047   42.467044   152.707018\n",
       "s5    97.004445   88.908258   59.144227   173.352480\n",
       "s6    90.728231   74.300331   78.871987   131.938551\n",
       "s7   121.926644  124.763957  125.849260   228.498856\n",
       "s8    75.615099   69.265436   51.173636   136.958765\n",
       "s9   167.738338   93.163153   49.590611    50.531127"
      ]
     },
     "execution_count": 18,
     "metadata": {},
     "output_type": "execute_result"
    }
   ],
   "source": [
    "df.reindex(index=(df.index).union(['s7']))"
   ]
  },
  {
   "cell_type": "code",
   "execution_count": 9,
   "id": "3bac20b4",
   "metadata": {},
   "outputs": [
    {
     "data": {
      "text/plain": [
       "(         school  childcare\n",
       " s1   120.815104        NaN\n",
       " s2    89.202286        NaN\n",
       " s3   -41.762077        NaN\n",
       " s4   126.421996        NaN\n",
       " s5    95.035462        NaN\n",
       " s6    -8.715328        NaN\n",
       " s7   123.103220        NaN\n",
       " s8    94.702824        NaN\n",
       " s9    25.642099        NaN\n",
       " s10   15.281876        NaN,\n",
       " 'OR SAME AS',\n",
       "          school  childcare\n",
       " s1   120.815104        NaN\n",
       " s2    89.202286        NaN\n",
       " s3   -41.762077        NaN\n",
       " s4   126.421996        NaN\n",
       " s5    95.035462        NaN\n",
       " s6    -8.715328        NaN\n",
       " s7   123.103220        NaN\n",
       " s8    94.702824        NaN\n",
       " s9    25.642099        NaN\n",
       " s10   15.281876        NaN)"
      ]
     },
     "execution_count": 9,
     "metadata": {},
     "output_type": "execute_result"
    }
   ],
   "source": [
    "columns=['school','childcare']\n",
    "df.reindex(columns=columns),'OR SAME AS',df.reindex(columns,axis='columns')"
   ]
  },
  {
   "cell_type": "code",
   "execution_count": 10,
   "id": "f829b7e0",
   "metadata": {},
   "outputs": [
    {
     "data": {
      "text/html": [
       "<div>\n",
       "<style scoped>\n",
       "    .dataframe tbody tr th:only-of-type {\n",
       "        vertical-align: middle;\n",
       "    }\n",
       "\n",
       "    .dataframe tbody tr th {\n",
       "        vertical-align: top;\n",
       "    }\n",
       "\n",
       "    .dataframe thead th {\n",
       "        text-align: right;\n",
       "    }\n",
       "</style>\n",
       "<table border=\"1\" class=\"dataframe\">\n",
       "  <thead>\n",
       "    <tr style=\"text-align: right;\">\n",
       "      <th></th>\n",
       "      <th>school</th>\n",
       "      <th>hospitality</th>\n",
       "    </tr>\n",
       "  </thead>\n",
       "  <tbody>\n",
       "    <tr>\n",
       "      <th>s1</th>\n",
       "      <td>120.815104</td>\n",
       "      <td>92.010211</td>\n",
       "    </tr>\n",
       "    <tr>\n",
       "      <th>s5</th>\n",
       "      <td>95.035462</td>\n",
       "      <td>125.526171</td>\n",
       "    </tr>\n",
       "    <tr>\n",
       "      <th>s7</th>\n",
       "      <td>123.103220</td>\n",
       "      <td>80.109065</td>\n",
       "    </tr>\n",
       "  </tbody>\n",
       "</table>\n",
       "</div>"
      ],
      "text/plain": [
       "        school  hospitality\n",
       "s1  120.815104    92.010211\n",
       "s5   95.035462   125.526171\n",
       "s7  123.103220    80.109065"
      ]
     },
     "execution_count": 10,
     "metadata": {},
     "output_type": "execute_result"
    }
   ],
   "source": [
    "# !!IF YOU DONT WANNA CREATE NEW INDEX .LOC IS MORE CONVENIENT WAY TO REINDEX\n",
    "df.loc[['s1','s5',\"s7\"],['school','hospitality']]"
   ]
  },
  {
   "cell_type": "code",
   "execution_count": 11,
   "id": "b27bfa5f",
   "metadata": {},
   "outputs": [],
   "source": [
    "#DROPPING ENTRIES FROM AN AXIS\n",
    "string='p i l l o w'\n",
    "index=string.split()\n",
    "vals=np.arange(6)\n",
    "sr=Series(vals,index)"
   ]
  },
  {
   "cell_type": "code",
   "execution_count": 12,
   "id": "59fdc3a3",
   "metadata": {},
   "outputs": [
    {
     "data": {
      "text/plain": [
       "p    0\n",
       "i    1\n",
       "l    2\n",
       "l    3\n",
       "o    4\n",
       "w    5\n",
       "dtype: int64"
      ]
     },
     "execution_count": 12,
     "metadata": {},
     "output_type": "execute_result"
    }
   ],
   "source": [
    "sr"
   ]
  },
  {
   "cell_type": "code",
   "execution_count": 13,
   "id": "fb900072",
   "metadata": {},
   "outputs": [
    {
     "data": {
      "text/plain": [
       "i    1\n",
       "l    2\n",
       "l    3\n",
       "o    4\n",
       "w    5\n",
       "dtype: int64"
      ]
     },
     "execution_count": 13,
     "metadata": {},
     "output_type": "execute_result"
    }
   ],
   "source": [
    "sr=sr.drop('p')\n",
    "sr"
   ]
  },
  {
   "cell_type": "code",
   "execution_count": 14,
   "id": "70c81ee5",
   "metadata": {},
   "outputs": [
    {
     "data": {
      "text/html": [
       "<div>\n",
       "<style scoped>\n",
       "    .dataframe tbody tr th:only-of-type {\n",
       "        vertical-align: middle;\n",
       "    }\n",
       "\n",
       "    .dataframe tbody tr th {\n",
       "        vertical-align: top;\n",
       "    }\n",
       "\n",
       "    .dataframe thead th {\n",
       "        text-align: right;\n",
       "    }\n",
       "</style>\n",
       "<table border=\"1\" class=\"dataframe\">\n",
       "  <thead>\n",
       "    <tr style=\"text-align: right;\">\n",
       "      <th></th>\n",
       "      <th>price</th>\n",
       "      <th>crime</th>\n",
       "      <th>school</th>\n",
       "      <th>hospitality</th>\n",
       "    </tr>\n",
       "  </thead>\n",
       "  <tbody>\n",
       "    <tr>\n",
       "      <th>s1</th>\n",
       "      <td>89.949024</td>\n",
       "      <td>140.610650</td>\n",
       "      <td>120.815104</td>\n",
       "      <td>92.010211</td>\n",
       "    </tr>\n",
       "    <tr>\n",
       "      <th>s2</th>\n",
       "      <td>78.282433</td>\n",
       "      <td>131.969262</td>\n",
       "      <td>89.202286</td>\n",
       "      <td>22.049377</td>\n",
       "    </tr>\n",
       "    <tr>\n",
       "      <th>s3</th>\n",
       "      <td>91.821126</td>\n",
       "      <td>98.846105</td>\n",
       "      <td>-41.762077</td>\n",
       "      <td>176.710293</td>\n",
       "    </tr>\n",
       "    <tr>\n",
       "      <th>s4</th>\n",
       "      <td>44.009273</td>\n",
       "      <td>10.045141</td>\n",
       "      <td>126.421996</td>\n",
       "      <td>-7.805860</td>\n",
       "    </tr>\n",
       "    <tr>\n",
       "      <th>s5</th>\n",
       "      <td>-2.801062</td>\n",
       "      <td>221.935191</td>\n",
       "      <td>95.035462</td>\n",
       "      <td>125.526171</td>\n",
       "    </tr>\n",
       "    <tr>\n",
       "      <th>s6</th>\n",
       "      <td>21.052535</td>\n",
       "      <td>186.801559</td>\n",
       "      <td>-8.715328</td>\n",
       "      <td>135.179557</td>\n",
       "    </tr>\n",
       "    <tr>\n",
       "      <th>s7</th>\n",
       "      <td>134.889549</td>\n",
       "      <td>197.980834</td>\n",
       "      <td>123.103220</td>\n",
       "      <td>80.109065</td>\n",
       "    </tr>\n",
       "    <tr>\n",
       "      <th>s8</th>\n",
       "      <td>124.569911</td>\n",
       "      <td>125.947355</td>\n",
       "      <td>94.702824</td>\n",
       "      <td>-0.737916</td>\n",
       "    </tr>\n",
       "    <tr>\n",
       "      <th>s9</th>\n",
       "      <td>112.621382</td>\n",
       "      <td>114.222448</td>\n",
       "      <td>25.642099</td>\n",
       "      <td>143.498171</td>\n",
       "    </tr>\n",
       "    <tr>\n",
       "      <th>s10</th>\n",
       "      <td>97.513695</td>\n",
       "      <td>146.857241</td>\n",
       "      <td>15.281876</td>\n",
       "      <td>63.540401</td>\n",
       "    </tr>\n",
       "  </tbody>\n",
       "</table>\n",
       "</div>"
      ],
      "text/plain": [
       "          price       crime      school  hospitality\n",
       "s1    89.949024  140.610650  120.815104    92.010211\n",
       "s2    78.282433  131.969262   89.202286    22.049377\n",
       "s3    91.821126   98.846105  -41.762077   176.710293\n",
       "s4    44.009273   10.045141  126.421996    -7.805860\n",
       "s5    -2.801062  221.935191   95.035462   125.526171\n",
       "s6    21.052535  186.801559   -8.715328   135.179557\n",
       "s7   134.889549  197.980834  123.103220    80.109065\n",
       "s8   124.569911  125.947355   94.702824    -0.737916\n",
       "s9   112.621382  114.222448   25.642099   143.498171\n",
       "s10   97.513695  146.857241   15.281876    63.540401"
      ]
     },
     "execution_count": 14,
     "metadata": {},
     "output_type": "execute_result"
    }
   ],
   "source": [
    "#DROPPING FOR DataFrame\n",
    "df"
   ]
  },
  {
   "cell_type": "code",
   "execution_count": 18,
   "id": "ee198bf3",
   "metadata": {},
   "outputs": [
    {
     "data": {
      "text/html": [
       "<div>\n",
       "<style scoped>\n",
       "    .dataframe tbody tr th:only-of-type {\n",
       "        vertical-align: middle;\n",
       "    }\n",
       "\n",
       "    .dataframe tbody tr th {\n",
       "        vertical-align: top;\n",
       "    }\n",
       "\n",
       "    .dataframe thead th {\n",
       "        text-align: right;\n",
       "    }\n",
       "</style>\n",
       "<table border=\"1\" class=\"dataframe\">\n",
       "  <thead>\n",
       "    <tr style=\"text-align: right;\">\n",
       "      <th></th>\n",
       "      <th>price</th>\n",
       "      <th>school</th>\n",
       "      <th>hospitality</th>\n",
       "    </tr>\n",
       "  </thead>\n",
       "  <tbody>\n",
       "    <tr>\n",
       "      <th>s1</th>\n",
       "      <td>89.949024</td>\n",
       "      <td>120.815104</td>\n",
       "      <td>92.010211</td>\n",
       "    </tr>\n",
       "    <tr>\n",
       "      <th>s2</th>\n",
       "      <td>78.282433</td>\n",
       "      <td>89.202286</td>\n",
       "      <td>22.049377</td>\n",
       "    </tr>\n",
       "    <tr>\n",
       "      <th>s3</th>\n",
       "      <td>91.821126</td>\n",
       "      <td>-41.762077</td>\n",
       "      <td>176.710293</td>\n",
       "    </tr>\n",
       "    <tr>\n",
       "      <th>s4</th>\n",
       "      <td>44.009273</td>\n",
       "      <td>126.421996</td>\n",
       "      <td>-7.805860</td>\n",
       "    </tr>\n",
       "    <tr>\n",
       "      <th>s5</th>\n",
       "      <td>-2.801062</td>\n",
       "      <td>95.035462</td>\n",
       "      <td>125.526171</td>\n",
       "    </tr>\n",
       "    <tr>\n",
       "      <th>s6</th>\n",
       "      <td>21.052535</td>\n",
       "      <td>-8.715328</td>\n",
       "      <td>135.179557</td>\n",
       "    </tr>\n",
       "    <tr>\n",
       "      <th>s7</th>\n",
       "      <td>134.889549</td>\n",
       "      <td>123.103220</td>\n",
       "      <td>80.109065</td>\n",
       "    </tr>\n",
       "    <tr>\n",
       "      <th>s8</th>\n",
       "      <td>124.569911</td>\n",
       "      <td>94.702824</td>\n",
       "      <td>-0.737916</td>\n",
       "    </tr>\n",
       "    <tr>\n",
       "      <th>s9</th>\n",
       "      <td>112.621382</td>\n",
       "      <td>25.642099</td>\n",
       "      <td>143.498171</td>\n",
       "    </tr>\n",
       "    <tr>\n",
       "      <th>s10</th>\n",
       "      <td>97.513695</td>\n",
       "      <td>15.281876</td>\n",
       "      <td>63.540401</td>\n",
       "    </tr>\n",
       "  </tbody>\n",
       "</table>\n",
       "</div>"
      ],
      "text/plain": [
       "          price      school  hospitality\n",
       "s1    89.949024  120.815104    92.010211\n",
       "s2    78.282433   89.202286    22.049377\n",
       "s3    91.821126  -41.762077   176.710293\n",
       "s4    44.009273  126.421996    -7.805860\n",
       "s5    -2.801062   95.035462   125.526171\n",
       "s6    21.052535   -8.715328   135.179557\n",
       "s7   134.889549  123.103220    80.109065\n",
       "s8   124.569911   94.702824    -0.737916\n",
       "s9   112.621382   25.642099   143.498171\n",
       "s10   97.513695   15.281876    63.540401"
      ]
     },
     "execution_count": 18,
     "metadata": {},
     "output_type": "execute_result"
    }
   ],
   "source": [
    "df.drop('crime',axis=1)"
   ]
  },
  {
   "cell_type": "code",
   "execution_count": null,
   "id": "36282ae7",
   "metadata": {},
   "outputs": [],
   "source": []
  },
  {
   "cell_type": "code",
   "execution_count": 19,
   "id": "5d59caa5",
   "metadata": {},
   "outputs": [
    {
     "data": {
      "text/plain": [
       "i    1\n",
       "l    2\n",
       "l    3\n",
       "o    4\n",
       "w    5\n",
       "dtype: int64"
      ]
     },
     "execution_count": 19,
     "metadata": {},
     "output_type": "execute_result"
    }
   ],
   "source": [
    "# loc[], and iloc[]\n",
    "# loc[] can work with columns or integer`s value not its index\n",
    "# iloc[] is for like python,numpy arrays integer location  \n",
    "sr "
   ]
  },
  {
   "cell_type": "code",
   "execution_count": 61,
   "id": "7002ad6a",
   "metadata": {},
   "outputs": [
    {
     "data": {
      "text/plain": [
       "l    2\n",
       "l    3\n",
       "dtype: int64"
      ]
     },
     "execution_count": 61,
     "metadata": {},
     "output_type": "execute_result"
    }
   ],
   "source": [
    "sr.loc['l'] "
   ]
  },
  {
   "cell_type": "code",
   "execution_count": 25,
   "id": "c5ba56f8",
   "metadata": {},
   "outputs": [
    {
     "data": {
      "text/plain": [
       "l    3\n",
       "o    4\n",
       "l    3\n",
       "dtype: int64"
      ]
     },
     "execution_count": 25,
     "metadata": {},
     "output_type": "execute_result"
    }
   ],
   "source": [
    "sr.iloc[[2,3,2]]"
   ]
  },
  {
   "cell_type": "code",
   "execution_count": 32,
   "id": "d848b8b6",
   "metadata": {},
   "outputs": [
    {
     "data": {
      "text/plain": [
       "l    3\n",
       "o    4\n",
       "w    5\n",
       "dtype: int64"
      ]
     },
     "execution_count": 32,
     "metadata": {},
     "output_type": "execute_result"
    }
   ],
   "source": [
    "#loc,iloc uses square brackets for indicing property\n",
    "sr.iloc[2:5]"
   ]
  },
  {
   "cell_type": "code",
   "execution_count": 66,
   "id": "213adbb7",
   "metadata": {},
   "outputs": [
    {
     "data": {
      "text/html": [
       "<div>\n",
       "<style scoped>\n",
       "    .dataframe tbody tr th:only-of-type {\n",
       "        vertical-align: middle;\n",
       "    }\n",
       "\n",
       "    .dataframe tbody tr th {\n",
       "        vertical-align: top;\n",
       "    }\n",
       "\n",
       "    .dataframe thead th {\n",
       "        text-align: right;\n",
       "    }\n",
       "</style>\n",
       "<table border=\"1\" class=\"dataframe\">\n",
       "  <thead>\n",
       "    <tr style=\"text-align: right;\">\n",
       "      <th></th>\n",
       "      <th>price</th>\n",
       "      <th>crime</th>\n",
       "      <th>school</th>\n",
       "      <th>hospitality</th>\n",
       "    </tr>\n",
       "  </thead>\n",
       "  <tbody>\n",
       "    <tr>\n",
       "      <th>s1</th>\n",
       "      <td>89.949024</td>\n",
       "      <td>140.610650</td>\n",
       "      <td>120.815104</td>\n",
       "      <td>92.010211</td>\n",
       "    </tr>\n",
       "    <tr>\n",
       "      <th>s2</th>\n",
       "      <td>78.282433</td>\n",
       "      <td>131.969262</td>\n",
       "      <td>89.202286</td>\n",
       "      <td>22.049377</td>\n",
       "    </tr>\n",
       "    <tr>\n",
       "      <th>s3</th>\n",
       "      <td>91.821126</td>\n",
       "      <td>98.846105</td>\n",
       "      <td>-41.762077</td>\n",
       "      <td>176.710293</td>\n",
       "    </tr>\n",
       "    <tr>\n",
       "      <th>s4</th>\n",
       "      <td>44.009273</td>\n",
       "      <td>10.045141</td>\n",
       "      <td>126.421996</td>\n",
       "      <td>-7.805860</td>\n",
       "    </tr>\n",
       "    <tr>\n",
       "      <th>s5</th>\n",
       "      <td>-2.801062</td>\n",
       "      <td>221.935191</td>\n",
       "      <td>95.035462</td>\n",
       "      <td>125.526171</td>\n",
       "    </tr>\n",
       "    <tr>\n",
       "      <th>s6</th>\n",
       "      <td>21.052535</td>\n",
       "      <td>186.801559</td>\n",
       "      <td>-8.715328</td>\n",
       "      <td>135.179557</td>\n",
       "    </tr>\n",
       "    <tr>\n",
       "      <th>s7</th>\n",
       "      <td>134.889549</td>\n",
       "      <td>197.980834</td>\n",
       "      <td>123.103220</td>\n",
       "      <td>80.109065</td>\n",
       "    </tr>\n",
       "    <tr>\n",
       "      <th>s8</th>\n",
       "      <td>124.569911</td>\n",
       "      <td>125.947355</td>\n",
       "      <td>94.702824</td>\n",
       "      <td>-0.737916</td>\n",
       "    </tr>\n",
       "    <tr>\n",
       "      <th>s9</th>\n",
       "      <td>112.621382</td>\n",
       "      <td>114.222448</td>\n",
       "      <td>25.642099</td>\n",
       "      <td>143.498171</td>\n",
       "    </tr>\n",
       "    <tr>\n",
       "      <th>s10</th>\n",
       "      <td>97.513695</td>\n",
       "      <td>146.857241</td>\n",
       "      <td>15.281876</td>\n",
       "      <td>63.540401</td>\n",
       "    </tr>\n",
       "  </tbody>\n",
       "</table>\n",
       "</div>"
      ],
      "text/plain": [
       "          price       crime      school  hospitality\n",
       "s1    89.949024  140.610650  120.815104    92.010211\n",
       "s2    78.282433  131.969262   89.202286    22.049377\n",
       "s3    91.821126   98.846105  -41.762077   176.710293\n",
       "s4    44.009273   10.045141  126.421996    -7.805860\n",
       "s5    -2.801062  221.935191   95.035462   125.526171\n",
       "s6    21.052535  186.801559   -8.715328   135.179557\n",
       "s7   134.889549  197.980834  123.103220    80.109065\n",
       "s8   124.569911  125.947355   94.702824    -0.737916\n",
       "s9   112.621382  114.222448   25.642099   143.498171\n",
       "s10   97.513695  146.857241   15.281876    63.540401"
      ]
     },
     "execution_count": 66,
     "metadata": {},
     "output_type": "execute_result"
    }
   ],
   "source": [
    "#indexing with dataframe\n",
    "df"
   ]
  },
  {
   "cell_type": "code",
   "execution_count": 43,
   "id": "c728b050",
   "metadata": {},
   "outputs": [
    {
     "data": {
      "text/html": [
       "<div>\n",
       "<style scoped>\n",
       "    .dataframe tbody tr th:only-of-type {\n",
       "        vertical-align: middle;\n",
       "    }\n",
       "\n",
       "    .dataframe tbody tr th {\n",
       "        vertical-align: top;\n",
       "    }\n",
       "\n",
       "    .dataframe thead th {\n",
       "        text-align: right;\n",
       "    }\n",
       "</style>\n",
       "<table border=\"1\" class=\"dataframe\">\n",
       "  <thead>\n",
       "    <tr style=\"text-align: right;\">\n",
       "      <th></th>\n",
       "      <th>price</th>\n",
       "      <th>crime</th>\n",
       "      <th>school</th>\n",
       "      <th>hospitality</th>\n",
       "    </tr>\n",
       "  </thead>\n",
       "  <tbody>\n",
       "    <tr>\n",
       "      <th>s1</th>\n",
       "      <td>89.949024</td>\n",
       "      <td>140.610650</td>\n",
       "      <td>120.815104</td>\n",
       "      <td>92.010211</td>\n",
       "    </tr>\n",
       "    <tr>\n",
       "      <th>s2</th>\n",
       "      <td>78.282433</td>\n",
       "      <td>131.969262</td>\n",
       "      <td>89.202286</td>\n",
       "      <td>22.049377</td>\n",
       "    </tr>\n",
       "    <tr>\n",
       "      <th>s4</th>\n",
       "      <td>44.009273</td>\n",
       "      <td>10.045141</td>\n",
       "      <td>126.421996</td>\n",
       "      <td>-7.805860</td>\n",
       "    </tr>\n",
       "    <tr>\n",
       "      <th>s5</th>\n",
       "      <td>-2.801062</td>\n",
       "      <td>221.935191</td>\n",
       "      <td>95.035462</td>\n",
       "      <td>125.526171</td>\n",
       "    </tr>\n",
       "    <tr>\n",
       "      <th>s7</th>\n",
       "      <td>134.889549</td>\n",
       "      <td>197.980834</td>\n",
       "      <td>123.103220</td>\n",
       "      <td>80.109065</td>\n",
       "    </tr>\n",
       "    <tr>\n",
       "      <th>s8</th>\n",
       "      <td>124.569911</td>\n",
       "      <td>125.947355</td>\n",
       "      <td>94.702824</td>\n",
       "      <td>-0.737916</td>\n",
       "    </tr>\n",
       "  </tbody>\n",
       "</table>\n",
       "</div>"
      ],
      "text/plain": [
       "         price       crime      school  hospitality\n",
       "s1   89.949024  140.610650  120.815104    92.010211\n",
       "s2   78.282433  131.969262   89.202286    22.049377\n",
       "s4   44.009273   10.045141  126.421996    -7.805860\n",
       "s5   -2.801062  221.935191   95.035462   125.526171\n",
       "s7  134.889549  197.980834  123.103220    80.109065\n",
       "s8  124.569911  125.947355   94.702824    -0.737916"
      ]
     },
     "execution_count": 43,
     "metadata": {},
     "output_type": "execute_result"
    }
   ],
   "source": [
    "df[df['school']>50]"
   ]
  },
  {
   "cell_type": "code",
   "execution_count": 48,
   "id": "b9246b76",
   "metadata": {},
   "outputs": [
    {
     "data": {
      "text/html": [
       "<div>\n",
       "<style scoped>\n",
       "    .dataframe tbody tr th:only-of-type {\n",
       "        vertical-align: middle;\n",
       "    }\n",
       "\n",
       "    .dataframe tbody tr th {\n",
       "        vertical-align: top;\n",
       "    }\n",
       "\n",
       "    .dataframe thead th {\n",
       "        text-align: right;\n",
       "    }\n",
       "</style>\n",
       "<table border=\"1\" class=\"dataframe\">\n",
       "  <thead>\n",
       "    <tr style=\"text-align: right;\">\n",
       "      <th></th>\n",
       "      <th>price</th>\n",
       "      <th>crime</th>\n",
       "      <th>school</th>\n",
       "      <th>hospitality</th>\n",
       "    </tr>\n",
       "  </thead>\n",
       "  <tbody>\n",
       "    <tr>\n",
       "      <th>s1</th>\n",
       "      <td>89.949024</td>\n",
       "      <td>140.610650</td>\n",
       "      <td>120.815104</td>\n",
       "      <td>92.010211</td>\n",
       "    </tr>\n",
       "    <tr>\n",
       "      <th>s2</th>\n",
       "      <td>78.282433</td>\n",
       "      <td>131.969262</td>\n",
       "      <td>89.202286</td>\n",
       "      <td>22.049377</td>\n",
       "    </tr>\n",
       "  </tbody>\n",
       "</table>\n",
       "</div>"
      ],
      "text/plain": [
       "        price       crime      school  hospitality\n",
       "s1  89.949024  140.610650  120.815104    92.010211\n",
       "s2  78.282433  131.969262   89.202286    22.049377"
      ]
     },
     "execution_count": 48,
     "metadata": {},
     "output_type": "execute_result"
    }
   ],
   "source": [
    "df[:2] #df[2] without slicing [], only works with colums ,but ':' switches the working to rows "
   ]
  },
  {
   "cell_type": "code",
   "execution_count": 40,
   "id": "9884c181",
   "metadata": {},
   "outputs": [
    {
     "data": {
      "text/plain": [
       "s1      42.903635\n",
       "s2      39.395059\n",
       "s3      58.680067\n",
       "s4      66.264482\n",
       "s5     147.295975\n",
       "s6     159.218709\n",
       "s7      67.004292\n",
       "s8      70.274771\n",
       "s9      62.569513\n",
       "s10     52.710127\n",
       "Name: price, dtype: float64"
      ]
     },
     "execution_count": 40,
     "metadata": {},
     "output_type": "execute_result"
    }
   ],
   "source": [
    "df['price'] "
   ]
  },
  {
   "cell_type": "code",
   "execution_count": 52,
   "id": "5b03dd3c",
   "metadata": {},
   "outputs": [
    {
     "data": {
      "text/html": [
       "<div>\n",
       "<style scoped>\n",
       "    .dataframe tbody tr th:only-of-type {\n",
       "        vertical-align: middle;\n",
       "    }\n",
       "\n",
       "    .dataframe tbody tr th {\n",
       "        vertical-align: top;\n",
       "    }\n",
       "\n",
       "    .dataframe thead th {\n",
       "        text-align: right;\n",
       "    }\n",
       "</style>\n",
       "<table border=\"1\" class=\"dataframe\">\n",
       "  <thead>\n",
       "    <tr style=\"text-align: right;\">\n",
       "      <th></th>\n",
       "      <th>school</th>\n",
       "      <th>price</th>\n",
       "    </tr>\n",
       "  </thead>\n",
       "  <tbody>\n",
       "    <tr>\n",
       "      <th>s2</th>\n",
       "      <td>89.202286</td>\n",
       "      <td>78.282433</td>\n",
       "    </tr>\n",
       "    <tr>\n",
       "      <th>s7</th>\n",
       "      <td>123.103220</td>\n",
       "      <td>134.889549</td>\n",
       "    </tr>\n",
       "  </tbody>\n",
       "</table>\n",
       "</div>"
      ],
      "text/plain": [
       "        school       price\n",
       "s2   89.202286   78.282433\n",
       "s7  123.103220  134.889549"
      ]
     },
     "execution_count": 52,
     "metadata": {},
     "output_type": "execute_result"
    }
   ],
   "source": [
    "# loc iloc for DataFrame \n",
    "df.loc[['s2','s7'],['school','price']] "
   ]
  },
  {
   "cell_type": "code",
   "execution_count": 60,
   "id": "7b3ca919",
   "metadata": {},
   "outputs": [
    {
     "data": {
      "text/html": [
       "<div>\n",
       "<style scoped>\n",
       "    .dataframe tbody tr th:only-of-type {\n",
       "        vertical-align: middle;\n",
       "    }\n",
       "\n",
       "    .dataframe tbody tr th {\n",
       "        vertical-align: top;\n",
       "    }\n",
       "\n",
       "    .dataframe thead th {\n",
       "        text-align: right;\n",
       "    }\n",
       "</style>\n",
       "<table border=\"1\" class=\"dataframe\">\n",
       "  <thead>\n",
       "    <tr style=\"text-align: right;\">\n",
       "      <th></th>\n",
       "      <th>price</th>\n",
       "      <th>crime</th>\n",
       "      <th>school</th>\n",
       "      <th>hospitality</th>\n",
       "    </tr>\n",
       "  </thead>\n",
       "  <tbody>\n",
       "    <tr>\n",
       "      <th>s2</th>\n",
       "      <td>78.282433</td>\n",
       "      <td>131.969262</td>\n",
       "      <td>89.202286</td>\n",
       "      <td>22.049377</td>\n",
       "    </tr>\n",
       "    <tr>\n",
       "      <th>s3</th>\n",
       "      <td>91.821126</td>\n",
       "      <td>98.846105</td>\n",
       "      <td>-41.762077</td>\n",
       "      <td>176.710293</td>\n",
       "    </tr>\n",
       "  </tbody>\n",
       "</table>\n",
       "</div>"
      ],
      "text/plain": [
       "        price       crime     school  hospitality\n",
       "s2  78.282433  131.969262  89.202286    22.049377\n",
       "s3  91.821126   98.846105 -41.762077   176.710293"
      ]
     },
     "execution_count": 60,
     "metadata": {},
     "output_type": "execute_result"
    }
   ],
   "source": [
    "df.iloc[1:3]"
   ]
  },
  {
   "cell_type": "code",
   "execution_count": 70,
   "id": "696134a2",
   "metadata": {},
   "outputs": [
    {
     "data": {
      "text/plain": [
       "s1    140.610650\n",
       "s2    131.969262\n",
       "s3     98.846105\n",
       "s4     10.045141\n",
       "s5    221.935191\n",
       "s6    186.801559\n",
       "Name: crime, dtype: float64"
      ]
     },
     "execution_count": 70,
     "metadata": {},
     "output_type": "execute_result"
    }
   ],
   "source": [
    "df.loc[:'s6','crime']       #some examples"
   ]
  },
  {
   "cell_type": "code",
   "execution_count": 85,
   "id": "dd3b3b52",
   "metadata": {},
   "outputs": [],
   "source": [
    "df1=df.loc['s1',:'school']\n",
    "df2=df.loc['s2']"
   ]
  },
  {
   "cell_type": "code",
   "execution_count": 91,
   "id": "b00f7170",
   "metadata": {},
   "outputs": [
    {
     "data": {
      "text/plain": [
       "crime          272.579912\n",
       "hospitality           NaN\n",
       "price          168.231458\n",
       "school         210.017390\n",
       "dtype: float64"
      ]
     },
     "execution_count": 91,
     "metadata": {},
     "output_type": "execute_result"
    }
   ],
   "source": [
    "df1+df2"
   ]
  },
  {
   "cell_type": "code",
   "execution_count": 92,
   "id": "69ddbc64",
   "metadata": {},
   "outputs": [
    {
     "data": {
      "text/plain": [
       "crime            272.579912\n",
       "hospitality    23475.049377\n",
       "price            168.231458\n",
       "school           210.017390\n",
       "dtype: float64"
      ]
     },
     "execution_count": 92,
     "metadata": {},
     "output_type": "execute_result"
    }
   ],
   "source": [
    "df1.add(df2,fill_value=23453) #helps with complemantery part"
   ]
  },
  {
   "cell_type": "code",
   "execution_count": 93,
   "id": "b09eb3b7",
   "metadata": {},
   "outputs": [
    {
     "data": {
      "text/html": [
       "<div>\n",
       "<style scoped>\n",
       "    .dataframe tbody tr th:only-of-type {\n",
       "        vertical-align: middle;\n",
       "    }\n",
       "\n",
       "    .dataframe tbody tr th {\n",
       "        vertical-align: top;\n",
       "    }\n",
       "\n",
       "    .dataframe thead th {\n",
       "        text-align: right;\n",
       "    }\n",
       "</style>\n",
       "<table border=\"1\" class=\"dataframe\">\n",
       "  <thead>\n",
       "    <tr style=\"text-align: right;\">\n",
       "      <th></th>\n",
       "      <th>price</th>\n",
       "      <th>crime</th>\n",
       "      <th>school</th>\n",
       "      <th>hospitality</th>\n",
       "    </tr>\n",
       "  </thead>\n",
       "  <tbody>\n",
       "    <tr>\n",
       "      <th>s1</th>\n",
       "      <td>89.949024</td>\n",
       "      <td>140.610650</td>\n",
       "      <td>120.815104</td>\n",
       "      <td>92.010211</td>\n",
       "    </tr>\n",
       "    <tr>\n",
       "      <th>s2</th>\n",
       "      <td>78.282433</td>\n",
       "      <td>131.969262</td>\n",
       "      <td>89.202286</td>\n",
       "      <td>22.049377</td>\n",
       "    </tr>\n",
       "    <tr>\n",
       "      <th>s3</th>\n",
       "      <td>91.821126</td>\n",
       "      <td>98.846105</td>\n",
       "      <td>-41.762077</td>\n",
       "      <td>176.710293</td>\n",
       "    </tr>\n",
       "    <tr>\n",
       "      <th>s4</th>\n",
       "      <td>44.009273</td>\n",
       "      <td>10.045141</td>\n",
       "      <td>126.421996</td>\n",
       "      <td>-7.805860</td>\n",
       "    </tr>\n",
       "    <tr>\n",
       "      <th>s5</th>\n",
       "      <td>-2.801062</td>\n",
       "      <td>221.935191</td>\n",
       "      <td>95.035462</td>\n",
       "      <td>125.526171</td>\n",
       "    </tr>\n",
       "    <tr>\n",
       "      <th>s6</th>\n",
       "      <td>21.052535</td>\n",
       "      <td>186.801559</td>\n",
       "      <td>-8.715328</td>\n",
       "      <td>135.179557</td>\n",
       "    </tr>\n",
       "    <tr>\n",
       "      <th>s7</th>\n",
       "      <td>134.889549</td>\n",
       "      <td>197.980834</td>\n",
       "      <td>123.103220</td>\n",
       "      <td>80.109065</td>\n",
       "    </tr>\n",
       "    <tr>\n",
       "      <th>s8</th>\n",
       "      <td>124.569911</td>\n",
       "      <td>125.947355</td>\n",
       "      <td>94.702824</td>\n",
       "      <td>-0.737916</td>\n",
       "    </tr>\n",
       "    <tr>\n",
       "      <th>s9</th>\n",
       "      <td>112.621382</td>\n",
       "      <td>114.222448</td>\n",
       "      <td>25.642099</td>\n",
       "      <td>143.498171</td>\n",
       "    </tr>\n",
       "    <tr>\n",
       "      <th>s10</th>\n",
       "      <td>97.513695</td>\n",
       "      <td>146.857241</td>\n",
       "      <td>15.281876</td>\n",
       "      <td>63.540401</td>\n",
       "    </tr>\n",
       "  </tbody>\n",
       "</table>\n",
       "</div>"
      ],
      "text/plain": [
       "          price       crime      school  hospitality\n",
       "s1    89.949024  140.610650  120.815104    92.010211\n",
       "s2    78.282433  131.969262   89.202286    22.049377\n",
       "s3    91.821126   98.846105  -41.762077   176.710293\n",
       "s4    44.009273   10.045141  126.421996    -7.805860\n",
       "s5    -2.801062  221.935191   95.035462   125.526171\n",
       "s6    21.052535  186.801559   -8.715328   135.179557\n",
       "s7   134.889549  197.980834  123.103220    80.109065\n",
       "s8   124.569911  125.947355   94.702824    -0.737916\n",
       "s9   112.621382  114.222448   25.642099   143.498171\n",
       "s10   97.513695  146.857241   15.281876    63.540401"
      ]
     },
     "execution_count": 93,
     "metadata": {},
     "output_type": "execute_result"
    }
   ],
   "source": [
    "#DataFrame&Series operations have broadcastion property on Series\n",
    "df"
   ]
  },
  {
   "cell_type": "code",
   "execution_count": 97,
   "id": "9350a005",
   "metadata": {},
   "outputs": [
    {
     "data": {
      "text/plain": [
       "price      89.949024\n",
       "crime     140.610650\n",
       "school    120.815104\n",
       "Name: s1, dtype: float64"
      ]
     },
     "execution_count": 97,
     "metadata": {},
     "output_type": "execute_result"
    }
   ],
   "source": [
    "df1"
   ]
  },
  {
   "cell_type": "code",
   "execution_count": 99,
   "id": "0e2503dc",
   "metadata": {},
   "outputs": [
    {
     "data": {
      "text/html": [
       "<div>\n",
       "<style scoped>\n",
       "    .dataframe tbody tr th:only-of-type {\n",
       "        vertical-align: middle;\n",
       "    }\n",
       "\n",
       "    .dataframe tbody tr th {\n",
       "        vertical-align: top;\n",
       "    }\n",
       "\n",
       "    .dataframe thead th {\n",
       "        text-align: right;\n",
       "    }\n",
       "</style>\n",
       "<table border=\"1\" class=\"dataframe\">\n",
       "  <thead>\n",
       "    <tr style=\"text-align: right;\">\n",
       "      <th></th>\n",
       "      <th>crime</th>\n",
       "      <th>hospitality</th>\n",
       "      <th>price</th>\n",
       "      <th>school</th>\n",
       "    </tr>\n",
       "  </thead>\n",
       "  <tbody>\n",
       "    <tr>\n",
       "      <th>s1</th>\n",
       "      <td>-140470.039412</td>\n",
       "      <td>NaN</td>\n",
       "      <td>-89859.075432</td>\n",
       "      <td>-120694.289330</td>\n",
       "    </tr>\n",
       "    <tr>\n",
       "      <th>s2</th>\n",
       "      <td>-140478.680800</td>\n",
       "      <td>NaN</td>\n",
       "      <td>-89870.742023</td>\n",
       "      <td>-120725.902149</td>\n",
       "    </tr>\n",
       "    <tr>\n",
       "      <th>s3</th>\n",
       "      <td>-140511.803957</td>\n",
       "      <td>NaN</td>\n",
       "      <td>-89857.203330</td>\n",
       "      <td>-120856.866511</td>\n",
       "    </tr>\n",
       "    <tr>\n",
       "      <th>s4</th>\n",
       "      <td>-140600.604921</td>\n",
       "      <td>NaN</td>\n",
       "      <td>-89905.015183</td>\n",
       "      <td>-120688.682439</td>\n",
       "    </tr>\n",
       "    <tr>\n",
       "      <th>s5</th>\n",
       "      <td>-140388.714871</td>\n",
       "      <td>NaN</td>\n",
       "      <td>-89951.825518</td>\n",
       "      <td>-120720.068972</td>\n",
       "    </tr>\n",
       "    <tr>\n",
       "      <th>s6</th>\n",
       "      <td>-140423.848503</td>\n",
       "      <td>NaN</td>\n",
       "      <td>-89927.971921</td>\n",
       "      <td>-120823.819762</td>\n",
       "    </tr>\n",
       "    <tr>\n",
       "      <th>s7</th>\n",
       "      <td>-140412.669228</td>\n",
       "      <td>NaN</td>\n",
       "      <td>-89814.134907</td>\n",
       "      <td>-120692.001214</td>\n",
       "    </tr>\n",
       "    <tr>\n",
       "      <th>s8</th>\n",
       "      <td>-140484.702707</td>\n",
       "      <td>NaN</td>\n",
       "      <td>-89824.454546</td>\n",
       "      <td>-120720.401611</td>\n",
       "    </tr>\n",
       "    <tr>\n",
       "      <th>s9</th>\n",
       "      <td>-140496.427614</td>\n",
       "      <td>NaN</td>\n",
       "      <td>-89836.403075</td>\n",
       "      <td>-120789.462336</td>\n",
       "    </tr>\n",
       "    <tr>\n",
       "      <th>s10</th>\n",
       "      <td>-140463.792820</td>\n",
       "      <td>NaN</td>\n",
       "      <td>-89851.510761</td>\n",
       "      <td>-120799.822558</td>\n",
       "    </tr>\n",
       "  </tbody>\n",
       "</table>\n",
       "</div>"
      ],
      "text/plain": [
       "             crime  hospitality         price         school\n",
       "s1  -140470.039412          NaN -89859.075432 -120694.289330\n",
       "s2  -140478.680800          NaN -89870.742023 -120725.902149\n",
       "s3  -140511.803957          NaN -89857.203330 -120856.866511\n",
       "s4  -140600.604921          NaN -89905.015183 -120688.682439\n",
       "s5  -140388.714871          NaN -89951.825518 -120720.068972\n",
       "s6  -140423.848503          NaN -89927.971921 -120823.819762\n",
       "s7  -140412.669228          NaN -89814.134907 -120692.001214\n",
       "s8  -140484.702707          NaN -89824.454546 -120720.401611\n",
       "s9  -140496.427614          NaN -89836.403075 -120789.462336\n",
       "s10 -140463.792820          NaN -89851.510761 -120799.822558"
      ]
     },
     "execution_count": 99,
     "metadata": {},
     "output_type": "execute_result"
    }
   ],
   "source": [
    "df-df1*1000 #copied the series for each row"
   ]
  },
  {
   "cell_type": "code",
   "execution_count": 100,
   "id": "0289753a",
   "metadata": {},
   "outputs": [],
   "source": [
    "crime=df['crime']"
   ]
  },
  {
   "cell_type": "code",
   "execution_count": 112,
   "id": "1eacafb6",
   "metadata": {},
   "outputs": [
    {
     "data": {
      "text/plain": [
       "s1     140.610650\n",
       "s2     131.969262\n",
       "s3      98.846105\n",
       "s4      10.045141\n",
       "s5     221.935191\n",
       "s6     186.801559\n",
       "s7     197.980834\n",
       "s8     125.947355\n",
       "s9     114.222448\n",
       "s10    146.857241\n",
       "Name: crime, dtype: float64"
      ]
     },
     "execution_count": 112,
     "metadata": {},
     "output_type": "execute_result"
    }
   ],
   "source": [
    "crime"
   ]
  },
  {
   "cell_type": "code",
   "execution_count": 114,
   "id": "f3ec552b",
   "metadata": {},
   "outputs": [
    {
     "data": {
      "text/html": [
       "<div>\n",
       "<style scoped>\n",
       "    .dataframe tbody tr th:only-of-type {\n",
       "        vertical-align: middle;\n",
       "    }\n",
       "\n",
       "    .dataframe tbody tr th {\n",
       "        vertical-align: top;\n",
       "    }\n",
       "\n",
       "    .dataframe thead th {\n",
       "        text-align: right;\n",
       "    }\n",
       "</style>\n",
       "<table border=\"1\" class=\"dataframe\">\n",
       "  <thead>\n",
       "    <tr style=\"text-align: right;\">\n",
       "      <th></th>\n",
       "      <th>price</th>\n",
       "      <th>crime</th>\n",
       "      <th>school</th>\n",
       "      <th>hospitality</th>\n",
       "    </tr>\n",
       "  </thead>\n",
       "  <tbody>\n",
       "    <tr>\n",
       "      <th>s1</th>\n",
       "      <td>-50.661626</td>\n",
       "      <td>0.0</td>\n",
       "      <td>-19.795546</td>\n",
       "      <td>-48.600439</td>\n",
       "    </tr>\n",
       "    <tr>\n",
       "      <th>s2</th>\n",
       "      <td>-53.686829</td>\n",
       "      <td>0.0</td>\n",
       "      <td>-42.766976</td>\n",
       "      <td>-109.919885</td>\n",
       "    </tr>\n",
       "    <tr>\n",
       "      <th>s3</th>\n",
       "      <td>-7.024978</td>\n",
       "      <td>0.0</td>\n",
       "      <td>-140.608181</td>\n",
       "      <td>77.864188</td>\n",
       "    </tr>\n",
       "    <tr>\n",
       "      <th>s4</th>\n",
       "      <td>33.964132</td>\n",
       "      <td>0.0</td>\n",
       "      <td>116.376854</td>\n",
       "      <td>-17.851001</td>\n",
       "    </tr>\n",
       "    <tr>\n",
       "      <th>s5</th>\n",
       "      <td>-224.736252</td>\n",
       "      <td>0.0</td>\n",
       "      <td>-126.899728</td>\n",
       "      <td>-96.409019</td>\n",
       "    </tr>\n",
       "    <tr>\n",
       "      <th>s6</th>\n",
       "      <td>-165.749024</td>\n",
       "      <td>0.0</td>\n",
       "      <td>-195.516887</td>\n",
       "      <td>-51.622002</td>\n",
       "    </tr>\n",
       "    <tr>\n",
       "      <th>s7</th>\n",
       "      <td>-63.091285</td>\n",
       "      <td>0.0</td>\n",
       "      <td>-74.877613</td>\n",
       "      <td>-117.871769</td>\n",
       "    </tr>\n",
       "    <tr>\n",
       "      <th>s8</th>\n",
       "      <td>-1.377444</td>\n",
       "      <td>0.0</td>\n",
       "      <td>-31.244531</td>\n",
       "      <td>-126.685271</td>\n",
       "    </tr>\n",
       "    <tr>\n",
       "      <th>s9</th>\n",
       "      <td>-1.601066</td>\n",
       "      <td>0.0</td>\n",
       "      <td>-88.580349</td>\n",
       "      <td>29.275723</td>\n",
       "    </tr>\n",
       "    <tr>\n",
       "      <th>s10</th>\n",
       "      <td>-49.343547</td>\n",
       "      <td>0.0</td>\n",
       "      <td>-131.575365</td>\n",
       "      <td>-83.316840</td>\n",
       "    </tr>\n",
       "  </tbody>\n",
       "</table>\n",
       "</div>"
      ],
      "text/plain": [
       "          price  crime      school  hospitality\n",
       "s1   -50.661626    0.0  -19.795546   -48.600439\n",
       "s2   -53.686829    0.0  -42.766976  -109.919885\n",
       "s3    -7.024978    0.0 -140.608181    77.864188\n",
       "s4    33.964132    0.0  116.376854   -17.851001\n",
       "s5  -224.736252    0.0 -126.899728   -96.409019\n",
       "s6  -165.749024    0.0 -195.516887   -51.622002\n",
       "s7   -63.091285    0.0  -74.877613  -117.871769\n",
       "s8    -1.377444    0.0  -31.244531  -126.685271\n",
       "s9    -1.601066    0.0  -88.580349    29.275723\n",
       "s10  -49.343547    0.0 -131.575365   -83.316840"
      ]
     },
     "execution_count": 114,
     "metadata": {},
     "output_type": "execute_result"
    }
   ],
   "source": [
    "df.sub(crime,axis='index')# without axis it would have "
   ]
  },
  {
   "cell_type": "code",
   "execution_count": 15,
   "id": "e136b071",
   "metadata": {},
   "outputs": [
    {
     "data": {
      "text/plain": [
       "0    15\n",
       "1    16\n",
       "2    14\n",
       "3    10\n",
       "4    15\n",
       "dtype: int64"
      ]
     },
     "execution_count": 15,
     "metadata": {},
     "output_type": "execute_result"
    }
   ],
   "source": [
    "sr"
   ]
  },
  {
   "cell_type": "code",
   "execution_count": 17,
   "id": "a6e4d279",
   "metadata": {},
   "outputs": [],
   "source": [
    "sr.index=('a b c d e').split()"
   ]
  },
  {
   "cell_type": "code",
   "execution_count": 22,
   "id": "fefd3709",
   "metadata": {},
   "outputs": [
    {
     "data": {
      "text/plain": [
       "b    16\n",
       "e    15\n",
       "dtype: int64"
      ]
     },
     "execution_count": 22,
     "metadata": {},
     "output_type": "execute_result"
    }
   ],
   "source": [
    "sr[[1,4]]"
   ]
  },
  {
   "cell_type": "code",
   "execution_count": 28,
   "id": "92c72e1d",
   "metadata": {},
   "outputs": [
    {
     "data": {
      "text/html": [
       "<div>\n",
       "<style scoped>\n",
       "    .dataframe tbody tr th:only-of-type {\n",
       "        vertical-align: middle;\n",
       "    }\n",
       "\n",
       "    .dataframe tbody tr th {\n",
       "        vertical-align: top;\n",
       "    }\n",
       "\n",
       "    .dataframe thead th {\n",
       "        text-align: right;\n",
       "    }\n",
       "</style>\n",
       "<table border=\"1\" class=\"dataframe\">\n",
       "  <thead>\n",
       "    <tr style=\"text-align: right;\">\n",
       "      <th></th>\n",
       "      <th>price</th>\n",
       "      <th>crime</th>\n",
       "      <th>school</th>\n",
       "      <th>hospitality</th>\n",
       "    </tr>\n",
       "  </thead>\n",
       "  <tbody>\n",
       "    <tr>\n",
       "      <th>s1</th>\n",
       "      <td>45.479613</td>\n",
       "      <td>-19.510293</td>\n",
       "      <td>158.297379</td>\n",
       "      <td>100.999438</td>\n",
       "    </tr>\n",
       "    <tr>\n",
       "      <th>s2</th>\n",
       "      <td>112.343881</td>\n",
       "      <td>52.984307</td>\n",
       "      <td>173.589882</td>\n",
       "      <td>156.592035</td>\n",
       "    </tr>\n",
       "    <tr>\n",
       "      <th>s3</th>\n",
       "      <td>92.690567</td>\n",
       "      <td>66.648193</td>\n",
       "      <td>78.598517</td>\n",
       "      <td>52.082467</td>\n",
       "    </tr>\n",
       "    <tr>\n",
       "      <th>s4</th>\n",
       "      <td>101.593849</td>\n",
       "      <td>63.029937</td>\n",
       "      <td>135.132551</td>\n",
       "      <td>78.431886</td>\n",
       "    </tr>\n",
       "    <tr>\n",
       "      <th>s5</th>\n",
       "      <td>78.762576</td>\n",
       "      <td>192.235180</td>\n",
       "      <td>56.456829</td>\n",
       "      <td>5.925047</td>\n",
       "    </tr>\n",
       "    <tr>\n",
       "      <th>s6</th>\n",
       "      <td>121.972912</td>\n",
       "      <td>-24.672111</td>\n",
       "      <td>115.862718</td>\n",
       "      <td>158.903209</td>\n",
       "    </tr>\n",
       "    <tr>\n",
       "      <th>s7</th>\n",
       "      <td>104.206902</td>\n",
       "      <td>100.556504</td>\n",
       "      <td>-23.036561</td>\n",
       "      <td>133.318221</td>\n",
       "    </tr>\n",
       "    <tr>\n",
       "      <th>s8</th>\n",
       "      <td>123.777554</td>\n",
       "      <td>29.680134</td>\n",
       "      <td>214.790245</td>\n",
       "      <td>26.559028</td>\n",
       "    </tr>\n",
       "    <tr>\n",
       "      <th>s9</th>\n",
       "      <td>-0.757422</td>\n",
       "      <td>-8.663466</td>\n",
       "      <td>101.558254</td>\n",
       "      <td>120.272275</td>\n",
       "    </tr>\n",
       "    <tr>\n",
       "      <th>s10</th>\n",
       "      <td>126.458435</td>\n",
       "      <td>79.758401</td>\n",
       "      <td>51.239499</td>\n",
       "      <td>150.565875</td>\n",
       "    </tr>\n",
       "  </tbody>\n",
       "</table>\n",
       "</div>"
      ],
      "text/plain": [
       "          price       crime      school  hospitality\n",
       "s1    45.479613  -19.510293  158.297379   100.999438\n",
       "s2   112.343881   52.984307  173.589882   156.592035\n",
       "s3    92.690567   66.648193   78.598517    52.082467\n",
       "s4   101.593849   63.029937  135.132551    78.431886\n",
       "s5    78.762576  192.235180   56.456829     5.925047\n",
       "s6   121.972912  -24.672111  115.862718   158.903209\n",
       "s7   104.206902  100.556504  -23.036561   133.318221\n",
       "s8   123.777554   29.680134  214.790245    26.559028\n",
       "s9    -0.757422   -8.663466  101.558254   120.272275\n",
       "s10  126.458435   79.758401   51.239499   150.565875"
      ]
     },
     "execution_count": 28,
     "metadata": {},
     "output_type": "execute_result"
    }
   ],
   "source": [
    "df"
   ]
  },
  {
   "cell_type": "code",
   "execution_count": 37,
   "id": "1718673b",
   "metadata": {},
   "outputs": [],
   "source": [
    "sr=df['price']"
   ]
  },
  {
   "cell_type": "code",
   "execution_count": 39,
   "id": "d7c18350",
   "metadata": {},
   "outputs": [
    {
     "data": {
      "text/plain": [
       "s1      45.479613\n",
       "s2     112.343881\n",
       "s3      92.690567\n",
       "s4     101.593849\n",
       "s5      78.762576\n",
       "s6     121.972912\n",
       "s7     104.206902\n",
       "s8     123.777554\n",
       "s9      -0.757422\n",
       "s10    126.458435\n",
       "Name: price, dtype: float64"
      ]
     },
     "execution_count": 39,
     "metadata": {},
     "output_type": "execute_result"
    }
   ],
   "source": [
    "sr"
   ]
  },
  {
   "cell_type": "code",
   "execution_count": 43,
   "id": "051a07cc",
   "metadata": {},
   "outputs": [
    {
     "data": {
      "text/html": [
       "<div>\n",
       "<style scoped>\n",
       "    .dataframe tbody tr th:only-of-type {\n",
       "        vertical-align: middle;\n",
       "    }\n",
       "\n",
       "    .dataframe tbody tr th {\n",
       "        vertical-align: top;\n",
       "    }\n",
       "\n",
       "    .dataframe thead th {\n",
       "        text-align: right;\n",
       "    }\n",
       "</style>\n",
       "<table border=\"1\" class=\"dataframe\">\n",
       "  <thead>\n",
       "    <tr style=\"text-align: right;\">\n",
       "      <th></th>\n",
       "      <th>price</th>\n",
       "      <th>crime</th>\n",
       "      <th>school</th>\n",
       "      <th>hospitality</th>\n",
       "    </tr>\n",
       "  </thead>\n",
       "  <tbody>\n",
       "    <tr>\n",
       "      <th>s1</th>\n",
       "      <td>0.0</td>\n",
       "      <td>-64.989905</td>\n",
       "      <td>112.817766</td>\n",
       "      <td>55.519825</td>\n",
       "    </tr>\n",
       "    <tr>\n",
       "      <th>s2</th>\n",
       "      <td>0.0</td>\n",
       "      <td>-59.359573</td>\n",
       "      <td>61.246001</td>\n",
       "      <td>44.248154</td>\n",
       "    </tr>\n",
       "    <tr>\n",
       "      <th>s3</th>\n",
       "      <td>0.0</td>\n",
       "      <td>-26.042375</td>\n",
       "      <td>-14.092050</td>\n",
       "      <td>-40.608100</td>\n",
       "    </tr>\n",
       "    <tr>\n",
       "      <th>s4</th>\n",
       "      <td>0.0</td>\n",
       "      <td>-38.563912</td>\n",
       "      <td>33.538702</td>\n",
       "      <td>-23.161963</td>\n",
       "    </tr>\n",
       "    <tr>\n",
       "      <th>s5</th>\n",
       "      <td>0.0</td>\n",
       "      <td>113.472604</td>\n",
       "      <td>-22.305748</td>\n",
       "      <td>-72.837529</td>\n",
       "    </tr>\n",
       "    <tr>\n",
       "      <th>s6</th>\n",
       "      <td>0.0</td>\n",
       "      <td>-146.645022</td>\n",
       "      <td>-6.110193</td>\n",
       "      <td>36.930297</td>\n",
       "    </tr>\n",
       "    <tr>\n",
       "      <th>s7</th>\n",
       "      <td>0.0</td>\n",
       "      <td>-3.650397</td>\n",
       "      <td>-127.243463</td>\n",
       "      <td>29.111319</td>\n",
       "    </tr>\n",
       "    <tr>\n",
       "      <th>s8</th>\n",
       "      <td>0.0</td>\n",
       "      <td>-94.097420</td>\n",
       "      <td>91.012691</td>\n",
       "      <td>-97.218526</td>\n",
       "    </tr>\n",
       "    <tr>\n",
       "      <th>s9</th>\n",
       "      <td>0.0</td>\n",
       "      <td>-7.906044</td>\n",
       "      <td>102.315676</td>\n",
       "      <td>121.029697</td>\n",
       "    </tr>\n",
       "    <tr>\n",
       "      <th>s10</th>\n",
       "      <td>0.0</td>\n",
       "      <td>-46.700033</td>\n",
       "      <td>-75.218936</td>\n",
       "      <td>24.107440</td>\n",
       "    </tr>\n",
       "  </tbody>\n",
       "</table>\n",
       "</div>"
      ],
      "text/plain": [
       "     price       crime      school  hospitality\n",
       "s1     0.0  -64.989905  112.817766    55.519825\n",
       "s2     0.0  -59.359573   61.246001    44.248154\n",
       "s3     0.0  -26.042375  -14.092050   -40.608100\n",
       "s4     0.0  -38.563912   33.538702   -23.161963\n",
       "s5     0.0  113.472604  -22.305748   -72.837529\n",
       "s6     0.0 -146.645022   -6.110193    36.930297\n",
       "s7     0.0   -3.650397 -127.243463    29.111319\n",
       "s8     0.0  -94.097420   91.012691   -97.218526\n",
       "s9     0.0   -7.906044  102.315676   121.029697\n",
       "s10    0.0  -46.700033  -75.218936    24.107440"
      ]
     },
     "execution_count": 43,
     "metadata": {},
     "output_type": "execute_result"
    }
   ],
   "source": [
    "df.sub(sr,axis='index')"
   ]
  },
  {
   "cell_type": "code",
   "execution_count": null,
   "id": "acccf7c6",
   "metadata": {},
   "outputs": [],
   "source": []
  }
 ],
 "metadata": {
  "kernelspec": {
   "display_name": "Python 3 (ipykernel)",
   "language": "python",
   "name": "python3"
  },
  "language_info": {
   "codemirror_mode": {
    "name": "ipython",
    "version": 3
   },
   "file_extension": ".py",
   "mimetype": "text/x-python",
   "name": "python",
   "nbconvert_exporter": "python",
   "pygments_lexer": "ipython3",
   "version": "3.9.12"
  }
 },
 "nbformat": 4,
 "nbformat_minor": 5
}
