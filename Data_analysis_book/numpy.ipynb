{
 "cells": [
  {
   "cell_type": "code",
   "execution_count": 1,
   "id": "ea2b985c",
   "metadata": {},
   "outputs": [],
   "source": [
    "import numpy as np"
   ]
  },
  {
   "cell_type": "code",
   "execution_count": 2,
   "id": "7ba0de48",
   "metadata": {},
   "outputs": [],
   "source": [
    "import random\n"
   ]
  },
  {
   "cell_type": "code",
   "execution_count": 3,
   "id": "7b5b8c6a",
   "metadata": {},
   "outputs": [],
   "source": [
    "import matplotlib.pyplot as plt"
   ]
  },
  {
   "cell_type": "code",
   "execution_count": 3,
   "id": "50ba4fe2",
   "metadata": {},
   "outputs": [
    {
     "data": {
      "text/plain": [
       "array([[0., 0.],\n",
       "       [0., 0.],\n",
       "       [0., 0.],\n",
       "       [0., 0.],\n",
       "       [0., 0.]])"
      ]
     },
     "execution_count": 3,
     "metadata": {},
     "output_type": "execute_result"
    }
   ],
   "source": [
    "np.zeros((5,2))"
   ]
  },
  {
   "cell_type": "code",
   "execution_count": 15,
   "id": "f744b7e4",
   "metadata": {},
   "outputs": [
    {
     "data": {
      "text/plain": [
       "array([[4.65762635e-310, 0.00000000e+000, 0.00000000e+000],\n",
       "       [0.00000000e+000, 0.00000000e+000, 0.00000000e+000],\n",
       "       [0.00000000e+000, 0.00000000e+000, 0.00000000e+000],\n",
       "       [0.00000000e+000, 0.00000000e+000, 0.00000000e+000],\n",
       "       [0.00000000e+000, 0.00000000e+000, 0.00000000e+000]])"
      ]
     },
     "execution_count": 15,
     "metadata": {},
     "output_type": "execute_result"
    }
   ],
   "source": [
    "np.empty((5,3)) #may contain garbage values , thus only use when replacing is ensured"
   ]
  },
  {
   "cell_type": "code",
   "execution_count": 28,
   "id": "16f17836",
   "metadata": {},
   "outputs": [
    {
     "data": {
      "text/plain": [
       "(array([ 0,  1,  2,  3,  4,  5,  6,  7,  8,  9, 10, 11, 12, 13, 14]),\n",
       " array([1, 1, 1, 1, 1, 1, 1, 1, 1, 1, 1, 1, 1, 1, 1]))"
      ]
     },
     "execution_count": 28,
     "metadata": {},
     "output_type": "execute_result"
    }
   ],
   "source": [
    "a=np.arange(15) #same as python`s range\n",
    "b=np.ones_like(a) # like means take the shape of it\n",
    "a,b"
   ]
  },
  {
   "cell_type": "code",
   "execution_count": 41,
   "id": "ea0dc2de",
   "metadata": {},
   "outputs": [
    {
     "data": {
      "text/plain": [
       "array([3, 3, 3, 3, 3, 3, 3, 3, 3, 3, 3, 3, 3, 3, 3])"
      ]
     },
     "execution_count": 41,
     "metadata": {},
     "output_type": "execute_result"
    }
   ],
   "source": [
    "c=np.full_like(a,3)# does like with specified value\n",
    "c"
   ]
  },
  {
   "cell_type": "code",
   "execution_count": 48,
   "id": "a46b54a1",
   "metadata": {},
   "outputs": [
    {
     "data": {
      "text/plain": [
       "array([3., 3., 3., 3., 3., 3., 3., 3., 3., 3., 3., 3., 3., 3., 3.])"
      ]
     },
     "execution_count": 48,
     "metadata": {},
     "output_type": "execute_result"
    }
   ],
   "source": [
    "c=c.astype(np.float64) # yine like gibi ozellik\n",
    "c"
   ]
  },
  {
   "cell_type": "code",
   "execution_count": 59,
   "id": "70ccebaa",
   "metadata": {},
   "outputs": [
    {
     "data": {
      "text/plain": [
       "array([ 0.,  1.,  2.,  3.,  4.,  5.,  6.,  7.,  8.,  9., 10., 11., 12.,\n",
       "       13., 14.])"
      ]
     },
     "execution_count": 59,
     "metadata": {},
     "output_type": "execute_result"
    }
   ],
   "source": [
    "a=a.astype(np.float64) # take 'a', change the type in paranthesis, assign it \n",
    "a"
   ]
  },
  {
   "cell_type": "code",
   "execution_count": 4,
   "id": "ea746567",
   "metadata": {},
   "outputs": [
    {
     "data": {
      "text/plain": [
       "(array([ 0,  1,  8, 27, 64]), array([0, 0, 0, 0, 0]))"
      ]
     },
     "execution_count": 4,
     "metadata": {},
     "output_type": "execute_result"
    }
   ],
   "source": [
    "#vectorization\n",
    "a=np.arange(5)\n",
    "a*a*a,a-a"
   ]
  },
  {
   "cell_type": "code",
   "execution_count": 62,
   "id": "fb5b93d8",
   "metadata": {},
   "outputs": [
    {
     "data": {
      "text/plain": [
       "array([    0,     1,     2,     3,     4,     5, 35342,     7,     8,\n",
       "           9])"
      ]
     },
     "execution_count": 62,
     "metadata": {},
     "output_type": "execute_result"
    }
   ],
   "source": [
    "#SLICING\n",
    "# IMPORTANT DISTINCTION FROM PYTHON`S LIST, NP DOES NOT COPY ### IT IS CALLED VIEW PROPERTY \n",
    "a=np.arange(10)\n",
    "temp=a[5:7]\n",
    "temp[1]=35342\n",
    "a #IT ALSO CHANGED THE 'A' EVEN THOUGH WE DID NOT CHANGE IT "
   ]
  },
  {
   "cell_type": "code",
   "execution_count": 64,
   "id": "2ec1acfe",
   "metadata": {},
   "outputs": [
    {
     "data": {
      "text/plain": [
       "array([    0,     1,     2,     3,     4,     5, 35342,     7,     8,\n",
       "           9])"
      ]
     },
     "execution_count": 64,
     "metadata": {},
     "output_type": "execute_result"
    }
   ],
   "source": [
    "# IF COPY IS THE DESIRE\n",
    "temp=a[3:5].copy()\n",
    "temp[0]=99999999999999999\n",
    "a"
   ]
  },
  {
   "cell_type": "code",
   "execution_count": 5,
   "id": "4542f709",
   "metadata": {},
   "outputs": [
    {
     "data": {
      "text/plain": [
       "((3,), array([4, 0, 0]), (1, 3), array([[4, 0, 0]]))"
      ]
     },
     "execution_count": 5,
     "metadata": {},
     "output_type": "execute_result"
    }
   ],
   "source": [
    "a=np.array([[1, 0, 0],\n",
    "           [4, 0, 0],\n",
    "           [7, 8, 9]])\n",
    "temp2=a[1,:]\n",
    "temp_correctone=a[1:2,:]\n",
    "temp2.shape,temp2,temp_correctone.shape,temp_correctone #making the range in the indicies even its `one` thing makes the shapeok"
   ]
  },
  {
   "cell_type": "code",
   "execution_count": 9,
   "id": "3af1b63d",
   "metadata": {},
   "outputs": [
    {
     "data": {
      "text/plain": [
       "(array([[1, 0, 0]]), array([[1, 0]]))"
      ]
     },
     "execution_count": 9,
     "metadata": {},
     "output_type": "execute_result"
    }
   ],
   "source": [
    "a[[True,False,False]],a[[True,False,False],:2] #list of bool on the first axis"
   ]
  },
  {
   "cell_type": "code",
   "execution_count": 12,
   "id": "3e37fcf4",
   "metadata": {},
   "outputs": [
    {
     "data": {
      "text/plain": [
       "array([[  0,   2],\n",
       "       [ -5,   6],\n",
       "       [  1,   2],\n",
       "       [-12,  -4],\n",
       "       [  3,   4]])"
      ]
     },
     "execution_count": 12,
     "metadata": {},
     "output_type": "execute_result"
    }
   ],
   "source": [
    "names = np.array([\"Bob\", \"Joe\", \"Will\", \"Bob\", \"Will\", \"Joe\", \"Joe\"])\n",
    "data = np.array([[4, 7], [0, 2], [-5, 6], [0, 0], [1, 2],[-12, -4], [3, 4]])\n",
    "data[~(names=='Bob')] #       ~ means exclude like !=  "
   ]
  },
  {
   "cell_type": "code",
   "execution_count": 31,
   "id": "ff1c916e",
   "metadata": {},
   "outputs": [
    {
     "data": {
      "text/plain": [
       "(array([False,  True, False, False, False,  True,  True]),\n",
       " array([[  0,   2],\n",
       "        [-12,  -4],\n",
       "        [  3,   4]]))"
      ]
     },
     "execution_count": 31,
     "metadata": {},
     "output_type": "execute_result"
    }
   ],
   "source": [
    "# &(and) and |(or) operators    ### when working with bool use & and | instead of 'and' and 'or'\n",
    "mask=(names=='Bod')|(names=='Joe') \n",
    "mask,data[mask] # 1,6,7 taken"
   ]
  },
  {
   "cell_type": "code",
   "execution_count": 41,
   "id": "c3cc1a71",
   "metadata": {},
   "outputs": [
    {
     "data": {
      "text/plain": [
       "numpy.ndarray"
      ]
     },
     "execution_count": 41,
     "metadata": {},
     "output_type": "execute_result"
    }
   ],
   "source": [
    "type(names!='Joe')"
   ]
  },
  {
   "cell_type": "code",
   "execution_count": 51,
   "id": "58035b63",
   "metadata": {},
   "outputs": [
    {
     "data": {
      "text/plain": [
       "array([ True, False, False])"
      ]
     },
     "execution_count": 51,
     "metadata": {},
     "output_type": "execute_result"
    }
   ],
   "source": [
    "k=np.array((True,False,False))\n",
    "k"
   ]
  },
  {
   "cell_type": "code",
   "execution_count": 16,
   "id": "70c6b37a",
   "metadata": {},
   "outputs": [
    {
     "data": {
      "text/plain": [
       "array([[     66,      66,      66],\n",
       "       [    123,     123,     123],\n",
       "       [1111111, 1111111, 1111111]])"
      ]
     },
     "execution_count": 16,
     "metadata": {},
     "output_type": "execute_result"
    }
   ],
   "source": [
    "a=np.array([[1, 0, 0],\n",
    "           [4, 0, 0],\n",
    "           [7, 8, 9]])\n",
    "k=np.array((True,False,False))\n",
    "a[k]=66\n",
    "a[1,:]=123                   \n",
    "a[([[False, False, False],   \n",
    "    [ False, False, False],   \n",
    "    [ True,  True,  True]])]=1111111\n",
    "a"
   ]
  },
  {
   "cell_type": "code",
   "execution_count": 77,
   "id": "9261de16",
   "metadata": {},
   "outputs": [
    {
     "data": {
      "text/plain": [
       "array([[6, 7, 8],\n",
       "       [3, 4, 5],\n",
       "       [0, 1, 2]])"
      ]
     },
     "execution_count": 77,
     "metadata": {},
     "output_type": "execute_result"
    }
   ],
   "source": [
    "# list of array in slicing (FANCY INDEXING)\n",
    "a=np.arange(9).reshape((3,3))\n",
    "a[[2,1,0]]"
   ]
  },
  {
   "cell_type": "code",
   "execution_count": 21,
   "id": "7b7ec1c0",
   "metadata": {},
   "outputs": [
    {
     "data": {
      "text/plain": [
       "(array([11111111111, 11111111111]),\n",
       " array([[1, 0, 0],\n",
       "        [4, 0, 0],\n",
       "        [7, 8, 9]]))"
      ]
     },
     "execution_count": 21,
     "metadata": {},
     "output_type": "execute_result"
    }
   ],
   "source": [
    "# FANCY INDEXING ...(double array indexing)\n",
    "a=np.array([[1, 0, 0],\n",
    "           [4, 0, 0],\n",
    "           [7, 8, 9]])\n",
    "temp1=a[[1,2],[1,2]] # same as coor(1,1) and coor (2,2)\n",
    "temp1[:]=11111111111 #it did not changed because FANCY DOES 'COPY' NOT VIEW UNLIKE 'SLICING '\n",
    "temp1,a\n"
   ]
  },
  {
   "cell_type": "code",
   "execution_count": null,
   "id": "e890742a",
   "metadata": {},
   "outputs": [],
   "source": [
    "# RANDOM CREATOR(np.random)"
   ]
  },
  {
   "cell_type": "code",
   "execution_count": 36,
   "id": "d4bd161e",
   "metadata": {},
   "outputs": [],
   "source": [
    "rng=np.random.default_rng(seed=123)"
   ]
  },
  {
   "cell_type": "code",
   "execution_count": 5,
   "id": "1854f224",
   "metadata": {},
   "outputs": [
    {
     "data": {
      "text/plain": [
       "array([[-0.98912135, -0.36778665,  1.28792526],\n",
       "       [ 0.19397442,  0.9202309 ,  0.57710379]])"
      ]
     },
     "execution_count": 5,
     "metadata": {},
     "output_type": "execute_result"
    }
   ],
   "source": [
    "rng.standard_normal((2,3)) # since generators are useful for one in second use of this will create new thing seed will not work"
   ]
  },
  {
   "cell_type": "code",
   "execution_count": 6,
   "id": "f0feb306",
   "metadata": {},
   "outputs": [],
   "source": [
    "arr=rng.standard_normal(7)*5"
   ]
  },
  {
   "cell_type": "code",
   "execution_count": null,
   "id": "603f6fac",
   "metadata": {},
   "outputs": [],
   "source": []
  },
  {
   "cell_type": "code",
   "execution_count": 32,
   "id": "7e91eb30",
   "metadata": {},
   "outputs": [
    {
     "data": {
      "text/plain": [
       "array([  1, 102,   3, 104,   5, 106,   7, 108,   9])"
      ]
     },
     "execution_count": 32,
     "metadata": {},
     "output_type": "execute_result"
    }
   ],
   "source": [
    "# np.where (condision,xarg,yarg) if cond true take xarg or take yarg\n",
    "xarg=np.arange(1,10)\n",
    "yarg=np.arange(101,110)\n",
    "def cond(x): # odd detector\n",
    "    parm=2*((x/2).astype('int32'))\n",
    "    return x-parm==1\n",
    "np.where(cond(xarg),xarg,yarg) "
   ]
  },
  {
   "cell_type": "code",
   "execution_count": 50,
   "id": "ad07875d",
   "metadata": {},
   "outputs": [],
   "source": [
    "arr=rng.standard_normal((8,4))"
   ]
  },
  {
   "cell_type": "code",
   "execution_count": 51,
   "id": "2ab90437",
   "metadata": {},
   "outputs": [
    {
     "data": {
      "text/plain": [
       "array([[-0.51576759,  1.65811332, -0.2972626 , -1.38337712],\n",
       "       [-0.2812045 ,  0.36002051, -0.23439201,  2.2655206 ],\n",
       "       [ 0.85538665,  1.73127944,  1.38588544, -1.68578468],\n",
       "       [-0.37775861, -2.72848569, -0.64639674,  1.11510426],\n",
       "       [-0.8432111 , -0.63668844,  0.32613417,  0.7873165 ],\n",
       "       [-0.35631338, -0.25581218,  0.8089817 ,  0.25405868],\n",
       "       [-0.28528677,  0.31450349,  0.07612151,  0.25463292],\n",
       "       [ 2.00123118, -0.30520792, -0.53976286,  1.41363079]])"
      ]
     },
     "execution_count": 51,
     "metadata": {},
     "output_type": "execute_result"
    }
   ],
   "source": [
    "arr"
   ]
  },
  {
   "cell_type": "code",
   "execution_count": 52,
   "id": "82278be7",
   "metadata": {},
   "outputs": [
    {
     "data": {
      "text/plain": [
       "0.13235028093743573"
      ]
     },
     "execution_count": 52,
     "metadata": {},
     "output_type": "execute_result"
    }
   ],
   "source": [
    "arr.mean()"
   ]
  },
  {
   "cell_type": "code",
   "execution_count": 53,
   "id": "c8b7342e",
   "metadata": {},
   "outputs": [
    {
     "data": {
      "text/plain": [
       "array([0.02463448, 0.01721532, 0.10991358, 0.37763775])"
      ]
     },
     "execution_count": 53,
     "metadata": {},
     "output_type": "execute_result"
    }
   ],
   "source": [
    "arr.mean(axis=0)"
   ]
  },
  {
   "cell_type": "code",
   "execution_count": 54,
   "id": "965a16d0",
   "metadata": {},
   "outputs": [
    {
     "data": {
      "text/plain": [
       "array([-0.1345735 ,  0.52748615,  0.57169171, -0.65938419, -0.09161222,\n",
       "        0.11272871,  0.08999279,  0.6424728 ])"
      ]
     },
     "execution_count": 54,
     "metadata": {},
     "output_type": "execute_result"
    }
   ],
   "source": [
    "arr.mean(axis=1)"
   ]
  },
  {
   "cell_type": "code",
   "execution_count": 55,
   "id": "283288b5",
   "metadata": {},
   "outputs": [
    {
     "data": {
      "text/plain": [
       "array([-0.51576759,  1.14234573,  0.84508313, -0.53829399, -0.8194985 ,\n",
       "       -0.45947799, -0.69387   ,  1.5716506 ,  2.42703725,  4.15831669,\n",
       "        5.54420213,  3.85841745,  3.48065885,  0.75217316,  0.10577642,\n",
       "        1.22088068,  0.37766958, -0.25901885,  0.06711531,  0.85443182,\n",
       "        0.49811843,  0.24230626,  1.05128796,  1.30534664,  1.02005987,\n",
       "        1.33456336,  1.41068487,  1.6653178 ,  3.66654898,  3.36134105,\n",
       "        2.8215782 ,  4.23520899])"
      ]
     },
     "execution_count": 55,
     "metadata": {},
     "output_type": "execute_result"
    }
   ],
   "source": [
    "arr.cumsum() #summ every element up to that elemement"
   ]
  },
  {
   "cell_type": "code",
   "execution_count": null,
   "id": "7e707a39",
   "metadata": {},
   "outputs": [],
   "source": [
    "# bool_list.any() returns true if there is any true\n",
    "# bool_list.all() returns true if all is true"
   ]
  },
  {
   "cell_type": "code",
   "execution_count": 56,
   "id": "cfe894f1",
   "metadata": {},
   "outputs": [],
   "source": [
    "# np.in1d(values,desired values ) returns bool list ,, true if value[i][j] is in desired value set\n",
    "desired=np.arange(4)\n",
    "vals=np.arange(8).reshape((4,2))"
   ]
  },
  {
   "cell_type": "code",
   "execution_count": 60,
   "id": "6eb3671a",
   "metadata": {},
   "outputs": [
    {
     "data": {
      "text/plain": [
       "array([ True,  True,  True,  True, False, False, False, False])"
      ]
     },
     "execution_count": 60,
     "metadata": {},
     "output_type": "execute_result"
    }
   ],
   "source": [
    "bools=np.in1d(vals,desired)\n",
    "bools"
   ]
  },
  {
   "cell_type": "code",
   "execution_count": 81,
   "id": "21c649f9",
   "metadata": {},
   "outputs": [
    {
     "name": "stdout",
     "output_type": "stream",
     "text": [
      "'1'does not need to be put at bool(1)\n"
     ]
    }
   ],
   "source": [
    "if 1 : \n",
    "    print('\\'1\\'does not need to be put at bool(1)')"
   ]
  },
  {
   "cell_type": "code",
   "execution_count": 83,
   "id": "4f37a372",
   "metadata": {},
   "outputs": [],
   "source": [
    "\n",
    "position=0\n",
    "walk=[position]\n",
    "step=1000\n",
    "for _ in range(step):\n",
    "    motion= 1 if random.randint(0,1) else -1\n",
    "    position +=motion\n",
    "    walk.append(position)"
   ]
  },
  {
   "cell_type": "code",
   "execution_count": 99,
   "id": "6b6aea83",
   "metadata": {},
   "outputs": [
    {
     "data": {
      "text/plain": [
       "[<matplotlib.lines.Line2D at 0x7fbbc71d16d0>]"
      ]
     },
     "execution_count": 99,
     "metadata": {},
     "output_type": "execute_result"
    },
    {
     "data": {
      "image/png": "[encoded data removed]",
      "text/plain": [
       "<Figure size 640x480 with 1 Axes>"
      ]
     },
     "metadata": {},
     "output_type": "display_data"
    }
   ],
   "source": [
    "plt.plot(walk[:1000])"
   ]
  },
  {
   "cell_type": "code",
   "execution_count": 4,
   "id": "5eedee35",
   "metadata": {},
   "outputs": [
    {
     "data": {
      "text/plain": [
       "[<matplotlib.lines.Line2D at 0x7f622eb6eaf0>]"
      ]
     },
     "execution_count": 4,
     "metadata": {},
     "output_type": "execute_result"
    },
    {
     "data": {
      "image/png": "[encoded data removed]",
      "text/plain": [
       "<Figure size 640x480 with 1 Axes>"
      ]
     },
     "metadata": {},
     "output_type": "display_data"
    }
   ],
   "source": [
    "# better RANDOM WALK way with numpy\n",
    "nsteps=1000\n",
    "rng=np.random.default_rng(seed=442)\n",
    "draws=rng.integers(0,2, size=nsteps)\n",
    "draws=np.where(draws==0,-1,1)\n",
    "walk=np.cumsum(draws).reshape(1000,1)\n",
    "plt.plot(walk)"
   ]
  },
  {
   "cell_type": "code",
   "execution_count": 112,
   "id": "ed225ee3",
   "metadata": {},
   "outputs": [
    {
     "data": {
      "text/plain": [
       "(-4, 48)"
      ]
     },
     "execution_count": 112,
     "metadata": {},
     "output_type": "execute_result"
    }
   ],
   "source": [
    "# NOW WE CAN APPLY STATISTICS TO THIS \n",
    "walk.min(),walk.max()"
   ]
  },
  {
   "cell_type": "code",
   "execution_count": 115,
   "id": "9853f2c8",
   "metadata": {},
   "outputs": [
    {
     "data": {
      "text/plain": [
       "61"
      ]
     },
     "execution_count": 115,
     "metadata": {},
     "output_type": "execute_result"
    }
   ],
   "source": [
    "# MORE STATISTICS\n",
    "(np.abs(walk)>=10).argmax() #sinsce cond contains (True,False) <--> as in (0,1) max in this is the first 1(#True) in the list."
   ]
  },
  {
   "cell_type": "code",
   "execution_count": 5,
   "id": "6a7e124e",
   "metadata": {},
   "outputs": [],
   "source": [
    "b=np.ones((1000,1))\n",
    "a=np.arange(1000).reshape((1000,1))\n",
    "mtrx=np.concatenate((a,b),axis=1)"
   ]
  },
  {
   "cell_type": "code",
   "execution_count": 8,
   "id": "ad8123bc",
   "metadata": {},
   "outputs": [
    {
     "data": {
      "text/plain": [
       "(1000, 2)"
      ]
     },
     "execution_count": 8,
     "metadata": {},
     "output_type": "execute_result"
    }
   ],
   "source": [
    "mtrx.shape"
   ]
  },
  {
   "cell_type": "code",
   "execution_count": 9,
   "id": "a73a4061",
   "metadata": {},
   "outputs": [
    {
     "ename": "SyntaxError",
     "evalue": "cannot assign to operator (1585912015.py, line 1)",
     "output_type": "error",
     "traceback": [
      "\u001b[0;36m  Cell \u001b[0;32mIn [9], line 1\u001b[0;36m\u001b[0m\n\u001b[0;31m    (mtrx.T@mtrx)@[c,d]=mtrx.T@walk\u001b[0m\n\u001b[0m    ^\u001b[0m\n\u001b[0;31mSyntaxError\u001b[0m\u001b[0;31m:\u001b[0m cannot assign to operator\n"
     ]
    }
   ],
   "source": [
    "(mtrx.T@mtrx)@[c,d]=mtrx.T@walk"
   ]
  },
  {
   "cell_type": "code",
   "execution_count": 10,
   "id": "640d23df",
   "metadata": {},
   "outputs": [],
   "source": [
    "A_Twalk=mtrx.T@walk"
   ]
  },
  {
   "cell_type": "code",
   "execution_count": 11,
   "id": "531e4ae6",
   "metadata": {},
   "outputs": [],
   "source": [
    "A_TA=mtrx.T@mtrx"
   ]
  },
  {
   "cell_type": "code",
   "execution_count": 12,
   "id": "205eb133",
   "metadata": {},
   "outputs": [],
   "source": [
    "inverse=np.linalg.inv(A_TA)"
   ]
  },
  {
   "cell_type": "code",
   "execution_count": 13,
   "id": "f82f7b33",
   "metadata": {},
   "outputs": [],
   "source": [
    "(c,d)=inverse@A_Twalk"
   ]
  },
  {
   "cell_type": "code",
   "execution_count": 29,
   "id": "a996655c",
   "metadata": {},
   "outputs": [],
   "source": [
    "def func(x):\n",
    "    return [c*x+d for x in ran]"
   ]
  },
  {
   "cell_type": "code",
   "execution_count": 33,
   "id": "b56204ca",
   "metadata": {},
   "outputs": [
    {
     "data": {
      "text/plain": [
       "([<matplotlib.lines.Line2D at 0x7f62297769d0>],\n",
       " [<matplotlib.lines.Line2D at 0x7f6229776ca0>])"
      ]
     },
     "execution_count": 33,
     "metadata": {},
     "output_type": "execute_result"
    },
    {
     "data": {
      "image/png": "[encoded data removed]",
      "text/plain": [
       "<Figure size 640x480 with 1 Axes>"
      ]
     },
     "metadata": {},
     "output_type": "display_data"
    }
   ],
   "source": [
    "plt.plot(walk),plt.plot(func(1000))"
   ]
  }
 ],
 "metadata": {
  "kernelspec": {
   "display_name": "Python 3 (ipykernel)",
   "language": "python",
   "name": "python3"
  },
  "language_info": {
   "codemirror_mode": {
    "name": "ipython",
    "version": 3
   },
   "file_extension": ".py",
   "mimetype": "text/x-python",
   "name": "python",
   "nbconvert_exporter": "python",
   "pygments_lexer": "ipython3",
   "version": "3.9.12"
  }
 },
 "nbformat": 4,
 "nbformat_minor": 5
}
